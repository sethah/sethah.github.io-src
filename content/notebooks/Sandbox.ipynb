{
 "cells": [
  {
   "cell_type": "code",
   "execution_count": 54,
   "metadata": {
    "collapsed": true
   },
   "outputs": [],
   "source": [
    "import pymc3 as pm\n",
    "from pymc3.glm import glm\n",
    "import numpy as np\n",
    "import pandas as pd\n",
    "import datetime\n",
    "import scipy.stats\n",
    "\n",
    "from scipy import optimize\n",
    "import theano as thno\n",
    "import theano.tensor as T\n",
    "\n",
    "# data retrieval helper module\n",
    "from general.DB import DB\n",
    "import util\n",
    "\n",
    "from sklearn.linear_model import LinearRegression\n",
    "import statsmodels.api as sm\n",
    "\n",
    "# plotting libraries\n",
    "import matplotlib.pyplot as plt\n",
    "import matplotlib.mlab as mlab\n",
    "import seaborn as sns\n",
    "%matplotlib inline"
   ]
  },
  {
   "cell_type": "code",
   "execution_count": 419,
   "metadata": {
    "collapsed": true
   },
   "outputs": [],
   "source": [
    "def gen_matchups(N, k):\n",
    "    np.random.seed(12)\n",
    "    indices = np.array([np.random.choice(range(k), 2, replace=False) for i in range(N)])\n",
    "    return indices\n",
    "def make_dummies(idx, k):\n",
    "    leave_out = k - 1\n",
    "    M = np.zeros((idx.shape[0] * 2, 2 * (k - 1)))\n",
    "    for i, pairing in enumerate(idx):\n",
    "        offset = i * 2\n",
    "        h, a = pairing[0], pairing[1]\n",
    "        if h == leave_out:\n",
    "            for j in range(k - 1):\n",
    "                M[offset, j] = -1.\n",
    "                M[offset + 1, (k - 1) + j] = -1.\n",
    "        else:\n",
    "            M[offset, h] = 1.\n",
    "            M[offset + 1, (k - 1) + h] = 1.\n",
    "        if a == leave_out:\n",
    "            for j in range(k - 1):\n",
    "                M[offset + 1, j] = -1.\n",
    "                M[offset, k - 1 + j] = -1\n",
    "        else:\n",
    "            M[offset + 1, a] = 1.\n",
    "            M[offset, k - 1 + a] = 1.\n",
    "    return M\n",
    "def gen_data(X, N, k):\n",
    "    np.random.seed(12)\n",
    "    off_coef = np.random.normal(0, 2, k)\n",
    "    def_coef = np.random.normal(0, 2, k)\n",
    "    off_coef -= np.mean(off_coef)\n",
    "    def_coef -= np.mean(def_coef)\n",
    "    home = 5\n",
    "    coefs = np.append(off_coef[:k-1], def_coef[:k-1])\n",
    "    X = np.append(X, np.ones(X.shape[0])[:, np.newaxis], 1)\n",
    "    mus = np.dot(X, np.append(coefs, 65))\n",
    "    y = np.random.normal(mus, 4)\n",
    "    return X, y, mus, off_coef, def_coef"
   ]
  },
  {
   "cell_type": "code",
   "execution_count": 440,
   "metadata": {
    "collapsed": false
   },
   "outputs": [
    {
     "data": {
      "text/plain": [
       "((200,), (200,))"
      ]
     },
     "execution_count": 440,
     "metadata": {},
     "output_type": "execute_result"
    }
   ],
   "source": [
    "N, k = 100, 3\n",
    "idx = gen_matchups(N, k)\n",
    "oidx, didx = idx.ravel(), np.fliplr(idx).ravel()\n",
    "M = make_dummies(idx, k)\n",
    "X, y, mus, o, d = gen_data(M, N, k)\n",
    "res = sm.GLM(y, X).fit()\n",
    "oidx.shape, y.shape"
   ]
  },
  {
   "cell_type": "code",
   "execution_count": 441,
   "metadata": {
    "collapsed": false
   },
   "outputs": [
    {
     "name": "stdout",
     "output_type": "stream",
     "text": [
      "[ 0.49233476  0.48707361  0.48116267  0.49233476  0.48707361  0.48116267\n",
      "  0.17803848]\n"
     ]
    },
    {
     "data": {
      "text/html": [
       "<table class=\"simpletable\">\n",
       "<caption>Generalized Linear Model Regression Results</caption>\n",
       "<tr>\n",
       "  <th>Dep. Variable:</th>          <td>y</td>        <th>  No. Observations:  </th>    <td>   200</td>    \n",
       "</tr>\n",
       "<tr>\n",
       "  <th>Model:</th>                 <td>GLM</td>       <th>  Df Residuals:      </th>    <td>   195</td>    \n",
       "</tr>\n",
       "<tr>\n",
       "  <th>Model Family:</th>       <td>Gaussian</td>     <th>  Df Model:          </th>    <td>     4</td>    \n",
       "</tr>\n",
       "<tr>\n",
       "  <th>Link Function:</th>      <td>identity</td>     <th>  Scale:             </th> <td>17.3984979257</td>\n",
       "</tr>\n",
       "<tr>\n",
       "  <th>Method:</th>               <td>IRLS</td>       <th>  Log-Likelihood:    </th>   <td> -566.89</td>   \n",
       "</tr>\n",
       "<tr>\n",
       "  <th>Date:</th>           <td>Mon, 09 May 2016</td> <th>  Deviance:          </th>   <td>  3392.7</td>   \n",
       "</tr>\n",
       "<tr>\n",
       "  <th>Time:</th>               <td>15:46:51</td>     <th>  Pearson chi2:      </th>   <td>3.39e+03</td>   \n",
       "</tr>\n",
       "<tr>\n",
       "  <th>No. Iterations:</th>         <td>4</td>        <th>                     </th>       <td> </td>      \n",
       "</tr>\n",
       "</table>\n",
       "<table class=\"simpletable\">\n",
       "<tr>\n",
       "    <td></td>       <th>coef</th>     <th>std err</th>      <th>z</th>      <th>P>|z|</th> <th>[95.0% Conf. Int.]</th> \n",
       "</tr>\n",
       "<tr>\n",
       "  <th>x1</th>    <td>    0.2815</td> <td>    0.475</td> <td>    0.593</td> <td> 0.553</td> <td>   -0.649     1.212</td>\n",
       "</tr>\n",
       "<tr>\n",
       "  <th>x2</th>    <td>   -1.1396</td> <td>    0.492</td> <td>   -2.318</td> <td> 0.020</td> <td>   -2.103    -0.176</td>\n",
       "</tr>\n",
       "<tr>\n",
       "  <th>x3</th>    <td>   -2.2194</td> <td>    0.475</td> <td>   -4.675</td> <td> 0.000</td> <td>   -3.150    -1.289</td>\n",
       "</tr>\n",
       "<tr>\n",
       "  <th>x4</th>    <td>    3.4926</td> <td>    0.492</td> <td>    7.105</td> <td> 0.000</td> <td>    2.529     4.456</td>\n",
       "</tr>\n",
       "<tr>\n",
       "  <th>const</th> <td>   64.2622</td> <td>    0.299</td> <td>  215.256</td> <td> 0.000</td> <td>   63.677    64.847</td>\n",
       "</tr>\n",
       "</table>"
      ],
      "text/plain": [
       "<class 'statsmodels.iolib.summary.Summary'>\n",
       "\"\"\"\n",
       "                 Generalized Linear Model Regression Results                  \n",
       "==============================================================================\n",
       "Dep. Variable:                      y   No. Observations:                  200\n",
       "Model:                            GLM   Df Residuals:                      195\n",
       "Model Family:                Gaussian   Df Model:                            4\n",
       "Link Function:               identity   Scale:                   17.3984979257\n",
       "Method:                          IRLS   Log-Likelihood:                -566.89\n",
       "Date:                Mon, 09 May 2016   Deviance:                       3392.7\n",
       "Time:                        15:46:51   Pearson chi2:                 3.39e+03\n",
       "No. Iterations:                     4                                         \n",
       "==============================================================================\n",
       "                 coef    std err          z      P>|z|      [95.0% Conf. Int.]\n",
       "------------------------------------------------------------------------------\n",
       "x1             0.2815      0.475      0.593      0.553        -0.649     1.212\n",
       "x2            -1.1396      0.492     -2.318      0.020        -2.103    -0.176\n",
       "x3            -2.2194      0.475     -4.675      0.000        -3.150    -1.289\n",
       "x4             3.4926      0.492      7.105      0.000         2.529     4.456\n",
       "const         64.2622      0.299    215.256      0.000        63.677    64.847\n",
       "==============================================================================\n",
       "\"\"\""
      ]
     },
     "execution_count": 441,
     "metadata": {},
     "output_type": "execute_result"
    }
   ],
   "source": [
    "res = sm.GLM(y, X).fit()\n",
    "sm_off_coefs = list(res.params[:])\n",
    "res.summary()"
   ]
  },
  {
   "cell_type": "code",
   "execution_count": 442,
   "metadata": {
    "collapsed": false
   },
   "outputs": [
    {
     "name": "stdout",
     "output_type": "stream",
     "text": [
      "Applied interval-transform to std and added transformed std_interval to model.\n",
      "{'intercept': array(64.24977936394241), 'std_interval': array(-1.34968874760186), 'def_coefs': array([-2.22188184,  3.4935181 , -1.27163627]), 'off_coefs': array([ 0.27900366, -1.13854093,  0.85953727])}\n",
      " [-----------------100%-----------------] 3000 of 3000 complete in 60.3 sec"
     ]
    }
   ],
   "source": [
    "with pm.Model() as model:\n",
    "    off_coefs = pm.Normal('off_coefs', 0, sd=100, shape=k)\n",
    "    def_coefs = pm.Normal('def_coefs', 0, sd=100, shape=k)\n",
    "    off_centered = pm.Deterministic('off_centered', off_coefs - T.mean(off_coefs))\n",
    "    def_centered = pm.Deterministic('def_centered', def_coefs - T.mean(def_coefs))\n",
    "    std = pm.Uniform('std', 0.01, 20)\n",
    "#     home = pm.Normal('home', 0, sd=5)\n",
    "    intercept = pm.Normal('intercept', 50, sd=10)\n",
    "    \n",
    "    mus = off_centered[oidx] + def_centered[didx] + intercept\n",
    "    target = pm.Normal('target', mu=mus, sd=std, observed=y)\n",
    "    start = pm.find_MAP()\n",
    "    print(start)\n",
    "    step1 = pm.NUTS([off_coefs, def_coefs, std, intercept])\n",
    "    traces = pm.sample(3000, step=step1, start=start, progressbar=True)"
   ]
  },
  {
   "cell_type": "code",
   "execution_count": 219,
   "metadata": {
    "collapsed": false
   },
   "outputs": [
    {
     "name": "stdout",
     "output_type": "stream",
     "text": [
      " [-----------------100%-----------------] 3000 of 3000 complete in 109.1 sec"
     ]
    }
   ],
   "source": [
    "with model:\n",
    "    traces = pm.sample(3000, step=step1, start=start, progressbar=True)"
   ]
  },
  {
   "cell_type": "code",
   "execution_count": 460,
   "metadata": {
    "collapsed": false
   },
   "outputs": [],
   "source": [
    "# history = 1000\n",
    "# print(o, d)\n",
    "# _ = pm.traceplot(traces[-history:], figsize=(12, len(traces.varnames) * 1.5))"
   ]
  },
  {
   "cell_type": "code",
   "execution_count": 167,
   "metadata": {
    "collapsed": false
   },
   "outputs": [],
   "source": [
    "def get_gaussian(mean, sigma):\n",
    "    x = np.linspace(mean - 5 * sigma, mean + 5 * sigma, 100)\n",
    "    return x, mlab.normpdf(x, mean, sigma)"
   ]
  },
  {
   "cell_type": "code",
   "execution_count": 473,
   "metadata": {
    "collapsed": false
   },
   "outputs": [
    {
     "name": "stdout",
     "output_type": "stream",
     "text": [
      "(3, 2)\n"
     ]
    },
    {
     "data": {
      "image/png": "[encoded data removed]",
      "text/plain": [
       "<matplotlib.figure.Figure at 0x126cb8320>"
      ]
     },
     "metadata": {},
     "output_type": "display_data"
    }
   ],
   "source": [
    "sm_off_coefs = res.params[:k - 1]\n",
    "sm_off_coefs = np.append(sm_off_coefs, -1 * np.sum(sm_off_coefs))\n",
    "sm_def_coefs = res.params[k - 1:2 * (k - 1)]\n",
    "sm_def_coefs = np.append(sm_def_coefs, -1 * np.sum(sm_def_coefs))\n",
    "mean = sm_off_coefs[-1]\n",
    "sm_cov = res.cov_params()\n",
    "sm_off_cov = sm_cov[:k-1, :k-1]\n",
    "sm_def_cov = sm_cov[k-1:2*(k-1), k-1:2*(k-1)]\n",
    "sm_off_sigmas = np.sqrt(np.append(sm_off_cov.diagonal(), np.sum(sm_off_cov)))\n",
    "sm_def_sigmas = np.sqrt(np.append(sm_def_cov.diagonal(), np.sum(sm_def_cov)))\n",
    "\n",
    "fig, axs = plt.subplots(3, 2, figsize=(15, 12))\n",
    "print(axs.shape)\n",
    "for i in range(axs.shape[0]):\n",
    "    axs[i, 0].hist(traces['off_centered'][:, i], normed=True, bins=20)\n",
    "    axs[i, 0].set_title('off_%s' % i)\n",
    "    x, density = get_gaussian(sm_off_coefs[i], sm_off_sigmas[i])\n",
    "    axs[i, 0].plot(x, density)\n",
    "    axs[i, 1].hist(traces['def_centered'][:, i], normed=True, bins=20)\n",
    "    axs[i, 1].set_title('def_%s' % i)\n",
    "    x, density = get_gaussian(sm_def_coefs[i], sm_def_sigmas[i])\n",
    "    axs[i, 1].plot(x, density)"
   ]
  },
  {
   "cell_type": "code",
   "execution_count": 449,
   "metadata": {
    "collapsed": false
   },
   "outputs": [
    {
     "data": {
      "text/plain": [
       "0.089125096841067036"
      ]
     },
     "execution_count": 449,
     "metadata": {},
     "output_type": "execute_result"
    }
   ],
   "source": [
    "res.cov_params()[-1, -1]"
   ]
  },
  {
   "cell_type": "code",
   "execution_count": 474,
   "metadata": {
    "collapsed": false
   },
   "outputs": [
    {
     "name": "stdout",
     "output_type": "stream",
     "text": [
      "0.299464236202 0.178038482507\n"
     ]
    },
    {
     "data": {
      "image/png": "[encoded data removed]",
      "text/plain": [
       "<matplotlib.figure.Figure at 0x12d6f9ba8>"
      ]
     },
     "metadata": {},
     "output_type": "display_data"
    }
   ],
   "source": [
    "plt.hist(traces[-1000:]['intercept'], normed=True, bins=20)\n",
    "x, density = get_gaussian(res.params[-1], np.sqrt(res.cov_params()[-1, -1]))\n",
    "plt.plot(x, density)\n",
    "print(np.std(traces[-1000:]['intercept']), sigmas[-1])"
   ]
  },
  {
   "cell_type": "code",
   "execution_count": 251,
   "metadata": {
    "collapsed": false
   },
   "outputs": [
    {
     "data": {
      "text/plain": [
       "0.43558170151226472"
      ]
     },
     "execution_count": 251,
     "metadata": {},
     "output_type": "execute_result"
    }
   ],
   "source": [
    "sigma = sigmas[-1]\n",
    "sigmao = np.sqrt(np.sum(sigmas[:k]**2) / k**2)\n",
    "sigmad = np.sqrt(np.sum(sigmas[k:2*k]**2) / k**2)\n",
    "np.sqrt(sigma**2 + sigmao**2 + sigmad**2)"
   ]
  },
  {
   "cell_type": "code",
   "execution_count": 249,
   "metadata": {
    "collapsed": false
   },
   "outputs": [
    {
     "data": {
      "text/plain": [
       "array([ 0.4193465 ,  0.44393037,  0.57241608,  0.600981  ,  0.58258705,\n",
       "        2.36413066,         nan])"
      ]
     },
     "execution_count": 249,
     "metadata": {},
     "output_type": "execute_result"
    }
   ],
   "source": [
    "cov = np.sqrt(np.linalg.pinv(XTX) * sy)\n",
    "cov.diagonal()"
   ]
  },
  {
   "cell_type": "code",
   "execution_count": 256,
   "metadata": {
    "collapsed": false
   },
   "outputs": [
    {
     "data": {
      "text/plain": [
       "array([[ 74.,   0.,   0.],\n",
       "       [  0.,  70.,   0.],\n",
       "       [  0.,   0.,  56.]])"
      ]
     },
     "execution_count": 256,
     "metadata": {},
     "output_type": "execute_result"
    }
   ],
   "source": [
    "np.dot(X[:, :k].T, X[:, :k])\n",
    "np.dot(X[:, k:2*k].T, X[:, k:2*k])"
   ]
  },
  {
   "cell_type": "code",
   "execution_count": 475,
   "metadata": {
    "collapsed": false
   },
   "outputs": [
    {
     "data": {
      "text/html": [
       "<div>\n",
       "<table border=\"1\" class=\"dataframe\">\n",
       "  <thead>\n",
       "    <tr style=\"text-align: right;\">\n",
       "      <th></th>\n",
       "      <th>0</th>\n",
       "      <th>1</th>\n",
       "      <th>2</th>\n",
       "      <th>3</th>\n",
       "      <th>4</th>\n",
       "    </tr>\n",
       "  </thead>\n",
       "  <tbody>\n",
       "    <tr>\n",
       "      <th>0</th>\n",
       "      <td>0.225387</td>\n",
       "      <td>-0.111468</td>\n",
       "      <td>0.094315</td>\n",
       "      <td>-0.045050</td>\n",
       "      <td>0.018399</td>\n",
       "    </tr>\n",
       "    <tr>\n",
       "      <th>1</th>\n",
       "      <td>-0.111468</td>\n",
       "      <td>0.241621</td>\n",
       "      <td>-0.045050</td>\n",
       "      <td>0.129946</td>\n",
       "      <td>-0.007533</td>\n",
       "    </tr>\n",
       "    <tr>\n",
       "      <th>2</th>\n",
       "      <td>0.094315</td>\n",
       "      <td>-0.045050</td>\n",
       "      <td>0.225387</td>\n",
       "      <td>-0.111468</td>\n",
       "      <td>0.018399</td>\n",
       "    </tr>\n",
       "    <tr>\n",
       "      <th>3</th>\n",
       "      <td>-0.045050</td>\n",
       "      <td>0.129946</td>\n",
       "      <td>-0.111468</td>\n",
       "      <td>0.241621</td>\n",
       "      <td>-0.007533</td>\n",
       "    </tr>\n",
       "    <tr>\n",
       "      <th>4</th>\n",
       "      <td>0.018399</td>\n",
       "      <td>-0.007533</td>\n",
       "      <td>0.018399</td>\n",
       "      <td>-0.007533</td>\n",
       "      <td>0.089125</td>\n",
       "    </tr>\n",
       "  </tbody>\n",
       "</table>\n",
       "</div>"
      ],
      "text/plain": [
       "          0         1         2         3         4\n",
       "0  0.225387 -0.111468  0.094315 -0.045050  0.018399\n",
       "1 -0.111468  0.241621 -0.045050  0.129946 -0.007533\n",
       "2  0.094315 -0.045050  0.225387 -0.111468  0.018399\n",
       "3 -0.045050  0.129946 -0.111468  0.241621 -0.007533\n",
       "4  0.018399 -0.007533  0.018399 -0.007533  0.089125"
      ]
     },
     "execution_count": 475,
     "metadata": {},
     "output_type": "execute_result"
    }
   ],
   "source": [
    "pd.DataFrame(res.cov_params())"
   ]
  },
  {
   "cell_type": "code",
   "execution_count": 499,
   "metadata": {
    "collapsed": false
   },
   "outputs": [
    {
     "data": {
      "text/html": [
       "<div>\n",
       "<table border=\"1\" class=\"dataframe\">\n",
       "  <thead>\n",
       "    <tr style=\"text-align: right;\">\n",
       "      <th></th>\n",
       "      <th>0</th>\n",
       "      <th>1</th>\n",
       "      <th>2</th>\n",
       "      <th>3</th>\n",
       "      <th>4</th>\n",
       "    </tr>\n",
       "  </thead>\n",
       "  <tbody>\n",
       "    <tr>\n",
       "      <th>0</th>\n",
       "      <td>0.225387</td>\n",
       "      <td>-0.111468</td>\n",
       "      <td>0.094315</td>\n",
       "      <td>-0.045050</td>\n",
       "      <td>0.018399</td>\n",
       "    </tr>\n",
       "    <tr>\n",
       "      <th>1</th>\n",
       "      <td>-0.111468</td>\n",
       "      <td>0.241621</td>\n",
       "      <td>-0.045050</td>\n",
       "      <td>0.129946</td>\n",
       "      <td>-0.007533</td>\n",
       "    </tr>\n",
       "    <tr>\n",
       "      <th>2</th>\n",
       "      <td>0.094315</td>\n",
       "      <td>-0.045050</td>\n",
       "      <td>0.225387</td>\n",
       "      <td>-0.111468</td>\n",
       "      <td>0.018399</td>\n",
       "    </tr>\n",
       "    <tr>\n",
       "      <th>3</th>\n",
       "      <td>-0.045050</td>\n",
       "      <td>0.129946</td>\n",
       "      <td>-0.111468</td>\n",
       "      <td>0.241621</td>\n",
       "      <td>-0.007533</td>\n",
       "    </tr>\n",
       "    <tr>\n",
       "      <th>4</th>\n",
       "      <td>0.018399</td>\n",
       "      <td>-0.007533</td>\n",
       "      <td>0.018399</td>\n",
       "      <td>-0.007533</td>\n",
       "      <td>0.089125</td>\n",
       "    </tr>\n",
       "  </tbody>\n",
       "</table>\n",
       "</div>"
      ],
      "text/plain": [
       "          0         1         2         3         4\n",
       "0  0.225387 -0.111468  0.094315 -0.045050  0.018399\n",
       "1 -0.111468  0.241621 -0.045050  0.129946 -0.007533\n",
       "2  0.094315 -0.045050  0.225387 -0.111468  0.018399\n",
       "3 -0.045050  0.129946 -0.111468  0.241621 -0.007533\n",
       "4  0.018399 -0.007533  0.018399 -0.007533  0.089125"
      ]
     },
     "execution_count": 499,
     "metadata": {},
     "output_type": "execute_result"
    }
   ],
   "source": [
    "Xc = X - np.mean(X, 0)\n",
    "y_pred = np.dot(X, res.params)\n",
    "sy = np.sum((y - y_pred)**2) * 1 / (X.shape[0] - X.shape[1])\n",
    "pd.DataFrame(np.linalg.pinv(np.dot(X.T, X)) * sy)"
   ]
  },
  {
   "cell_type": "code",
   "execution_count": 492,
   "metadata": {
    "collapsed": false
   },
   "outputs": [],
   "source": [
    "res.cov_params?"
   ]
  },
  {
   "cell_type": "code",
   "execution_count": 279,
   "metadata": {
    "collapsed": false
   },
   "outputs": [],
   "source": [
    "df['oidx'] = oidx\n",
    "df['didx'] = didx"
   ]
  },
  {
   "cell_type": "code",
   "execution_count": 281,
   "metadata": {
    "collapsed": false
   },
   "outputs": [],
   "source": [
    "df.to_csv(\"/Users/sethhendrickson/ratings_dummy_data.csv\", index=False)"
   ]
  },
  {
   "cell_type": "code",
   "execution_count": 295,
   "metadata": {
    "collapsed": false
   },
   "outputs": [],
   "source": [
    "ovar = np.sum(C[:k, :k]) * 1 / k**2\n",
    "dvar = np.sum(C[k:2*k, k:2*k]) * 1 / k**2\n",
    "ivar = C[6,6]"
   ]
  },
  {
   "cell_type": "code",
   "execution_count": 301,
   "metadata": {
    "collapsed": false
   },
   "outputs": [
    {
     "data": {
      "text/plain": [
       "0.17803848250701382"
      ]
     },
     "execution_count": 301,
     "metadata": {},
     "output_type": "execute_result"
    }
   ],
   "source": [
    "np.sqrt(np.sum(C) / k**2)"
   ]
  },
  {
   "cell_type": "code",
   "execution_count": 312,
   "metadata": {
    "collapsed": false
   },
   "outputs": [
    {
     "data": {
      "text/plain": [
       "array([[ 0.4662, -0.259 , -0.2072, -0.2738,  0.181 ,  0.0928,  0.    ],\n",
       "       [-0.259 ,  0.455 , -0.196 ,  0.181 , -0.245 ,  0.064 ,  0.    ],\n",
       "       [-0.2072, -0.196 ,  0.4032,  0.0928,  0.064 , -0.1568,  0.    ],\n",
       "       [-0.2738,  0.181 ,  0.0928,  0.4662, -0.259 , -0.2072,  0.    ],\n",
       "       [ 0.181 , -0.245 ,  0.064 , -0.259 ,  0.455 , -0.196 ,  0.    ],\n",
       "       [ 0.0928,  0.064 , -0.1568, -0.2072, -0.196 ,  0.4032,  0.    ],\n",
       "       [ 0.    ,  0.    ,  0.    ,  0.    ,  0.    ,  0.    ,  0.    ]])"
      ]
     },
     "execution_count": 312,
     "metadata": {},
     "output_type": "execute_result"
    }
   ],
   "source": [
    "Xp = X - np.mean(X, axis=0)\n",
    "np.dot(Xp.T, Xp) / N"
   ]
  },
  {
   "cell_type": "code",
   "execution_count": 307,
   "metadata": {
    "collapsed": false
   },
   "outputs": [
    {
     "data": {
      "text/plain": [
       "array([[  74.,    0.,    0.,    0.,   44.,   30.,   74.],\n",
       "       [   0.,   70.,    0.,   44.,    0.,   26.,   70.],\n",
       "       [   0.,    0.,   56.,   30.,   26.,    0.,   56.],\n",
       "       [   0.,   44.,   30.,   74.,    0.,    0.,   74.],\n",
       "       [  44.,    0.,   26.,    0.,   70.,    0.,   70.],\n",
       "       [  30.,   26.,    0.,    0.,    0.,   56.,   56.],\n",
       "       [  74.,   70.,   56.,   74.,   70.,   56.,  200.]])"
      ]
     },
     "execution_count": 307,
     "metadata": {},
     "output_type": "execute_result"
    }
   ],
   "source": [
    "np.dot(X.T, X)"
   ]
  },
  {
   "cell_type": "code",
   "execution_count": 322,
   "metadata": {
    "collapsed": false
   },
   "outputs": [
    {
     "data": {
      "text/html": [
       "<div>\n",
       "<table border=\"1\" class=\"dataframe\">\n",
       "  <thead>\n",
       "    <tr style=\"text-align: right;\">\n",
       "      <th></th>\n",
       "      <th>0</th>\n",
       "      <th>1</th>\n",
       "      <th>2</th>\n",
       "      <th>3</th>\n",
       "      <th>4</th>\n",
       "      <th>5</th>\n",
       "      <th>6</th>\n",
       "    </tr>\n",
       "  </thead>\n",
       "  <tbody>\n",
       "    <tr>\n",
       "      <th>0</th>\n",
       "      <td>0.245757</td>\n",
       "      <td>-0.135350</td>\n",
       "      <td>-0.111517</td>\n",
       "      <td>0.142113</td>\n",
       "      <td>-0.095755</td>\n",
       "      <td>-0.047467</td>\n",
       "      <td>-0.001110</td>\n",
       "    </tr>\n",
       "    <tr>\n",
       "      <th>1</th>\n",
       "      <td>-0.135350</td>\n",
       "      <td>0.240533</td>\n",
       "      <td>-0.097575</td>\n",
       "      <td>-0.095755</td>\n",
       "      <td>0.129901</td>\n",
       "      <td>-0.026537</td>\n",
       "      <td>0.007608</td>\n",
       "    </tr>\n",
       "    <tr>\n",
       "      <th>2</th>\n",
       "      <td>-0.111517</td>\n",
       "      <td>-0.097575</td>\n",
       "      <td>0.234730</td>\n",
       "      <td>-0.047467</td>\n",
       "      <td>-0.026537</td>\n",
       "      <td>0.099643</td>\n",
       "      <td>0.025639</td>\n",
       "    </tr>\n",
       "    <tr>\n",
       "      <th>3</th>\n",
       "      <td>0.142113</td>\n",
       "      <td>-0.095755</td>\n",
       "      <td>-0.047467</td>\n",
       "      <td>0.245757</td>\n",
       "      <td>-0.135350</td>\n",
       "      <td>-0.111517</td>\n",
       "      <td>-0.001110</td>\n",
       "    </tr>\n",
       "    <tr>\n",
       "      <th>4</th>\n",
       "      <td>-0.095755</td>\n",
       "      <td>0.129901</td>\n",
       "      <td>-0.026537</td>\n",
       "      <td>-0.135350</td>\n",
       "      <td>0.240533</td>\n",
       "      <td>-0.097575</td>\n",
       "      <td>0.007608</td>\n",
       "    </tr>\n",
       "    <tr>\n",
       "      <th>5</th>\n",
       "      <td>-0.047467</td>\n",
       "      <td>-0.026537</td>\n",
       "      <td>0.099643</td>\n",
       "      <td>-0.111517</td>\n",
       "      <td>-0.097575</td>\n",
       "      <td>0.234730</td>\n",
       "      <td>0.025639</td>\n",
       "    </tr>\n",
       "    <tr>\n",
       "      <th>6</th>\n",
       "      <td>-0.001110</td>\n",
       "      <td>0.007608</td>\n",
       "      <td>0.025639</td>\n",
       "      <td>-0.001110</td>\n",
       "      <td>0.007608</td>\n",
       "      <td>0.025639</td>\n",
       "      <td>0.032138</td>\n",
       "    </tr>\n",
       "  </tbody>\n",
       "</table>\n",
       "</div>"
      ],
      "text/plain": [
       "          0         1         2         3         4         5         6\n",
       "0  0.245757 -0.135350 -0.111517  0.142113 -0.095755 -0.047467 -0.001110\n",
       "1 -0.135350  0.240533 -0.097575 -0.095755  0.129901 -0.026537  0.007608\n",
       "2 -0.111517 -0.097575  0.234730 -0.047467 -0.026537  0.099643  0.025639\n",
       "3  0.142113 -0.095755 -0.047467  0.245757 -0.135350 -0.111517 -0.001110\n",
       "4 -0.095755  0.129901 -0.026537 -0.135350  0.240533 -0.097575  0.007608\n",
       "5 -0.047467 -0.026537  0.099643 -0.111517 -0.097575  0.234730  0.025639\n",
       "6 -0.001110  0.007608  0.025639 -0.001110  0.007608  0.025639  0.032138"
      ]
     },
     "execution_count": 322,
     "metadata": {},
     "output_type": "execute_result"
    }
   ],
   "source": [
    "pd.DataFrame(np.dot(np.linalg.pinv(X), np.linalg.pinv(X.T))) * 17"
   ]
  },
  {
   "cell_type": "code",
   "execution_count": 326,
   "metadata": {
    "collapsed": false
   },
   "outputs": [
    {
     "data": {
      "text/plain": [
       "-1.6"
      ]
     },
     "execution_count": 326,
     "metadata": {},
     "output_type": "execute_result"
    }
   ],
   "source": [
    "2.6 * 2  / 3 + -10 / 3"
   ]
  },
  {
   "cell_type": "code",
   "execution_count": 346,
   "metadata": {
    "collapsed": false
   },
   "outputs": [],
   "source": [
    "Xp = X\n",
    "Xp[np.where(Xp[:, 2] == 1)[0], 0] = -1\n",
    "Xp[np.where(Xp[:, 2] == 1)[0], 1] = -1\n",
    "Xp[np.where(Xp[:, 2] == 1)[0], 2] = 0\n",
    "Xp[np.where(Xp[:, 5] == 1)[0], 3] = -1\n",
    "Xp[np.where(Xp[:, 5] == 1)[0], 4] = -1\n",
    "Xp[np.where(Xp[:, 5] == 1)[0], 5] = 0"
   ]
  },
  {
   "cell_type": "code",
   "execution_count": 349,
   "metadata": {
    "collapsed": false
   },
   "outputs": [
    {
     "data": {
      "text/html": [
       "<table class=\"simpletable\">\n",
       "<caption>Generalized Linear Model Regression Results</caption>\n",
       "<tr>\n",
       "  <th>Dep. Variable:</th>          <td>y</td>        <th>  No. Observations:  </th>    <td>   200</td>    \n",
       "</tr>\n",
       "<tr>\n",
       "  <th>Model:</th>                 <td>GLM</td>       <th>  Df Residuals:      </th>    <td>   195</td>    \n",
       "</tr>\n",
       "<tr>\n",
       "  <th>Model Family:</th>       <td>Gaussian</td>     <th>  Df Model:          </th>    <td>     4</td>    \n",
       "</tr>\n",
       "<tr>\n",
       "  <th>Link Function:</th>      <td>identity</td>     <th>  Scale:             </th> <td>15.3242663517</td>\n",
       "</tr>\n",
       "<tr>\n",
       "  <th>Method:</th>               <td>IRLS</td>       <th>  Log-Likelihood:    </th>   <td> -554.20</td>   \n",
       "</tr>\n",
       "<tr>\n",
       "  <th>Date:</th>           <td>Mon, 09 May 2016</td> <th>  Deviance:          </th>   <td>  2988.2</td>   \n",
       "</tr>\n",
       "<tr>\n",
       "  <th>Time:</th>               <td>14:43:25</td>     <th>  Pearson chi2:      </th>   <td>2.99e+03</td>   \n",
       "</tr>\n",
       "<tr>\n",
       "  <th>No. Iterations:</th>         <td>4</td>        <th>                     </th>       <td> </td>      \n",
       "</tr>\n",
       "</table>\n",
       "<table class=\"simpletable\">\n",
       "<tr>\n",
       "    <td></td>       <th>coef</th>     <th>std err</th>      <th>z</th>      <th>P>|z|</th> <th>[95.0% Conf. Int.]</th> \n",
       "</tr>\n",
       "<tr>\n",
       "  <th>x1</th>    <td>    2.3943</td> <td>    0.446</td> <td>    5.365</td> <td> 0.000</td> <td>    1.520     3.269</td>\n",
       "</tr>\n",
       "<tr>\n",
       "  <th>x2</th>    <td>   -1.8085</td> <td>    0.463</td> <td>   -3.909</td> <td> 0.000</td> <td>   -2.715    -0.902</td>\n",
       "</tr>\n",
       "<tr>\n",
       "  <th>const</th> <td>-4.945e-15</td> <td> 2.68e-15</td> <td>   -1.846</td> <td> 0.065</td> <td>-1.02e-14  3.04e-16</td>\n",
       "</tr>\n",
       "<tr>\n",
       "  <th>x3</th>    <td>   -2.4503</td> <td>    0.446</td> <td>   -5.491</td> <td> 0.000</td> <td>   -3.325    -1.576</td>\n",
       "</tr>\n",
       "<tr>\n",
       "  <th>x4</th>    <td>    1.2484</td> <td>    0.463</td> <td>    2.699</td> <td> 0.007</td> <td>    0.342     2.155</td>\n",
       "</tr>\n",
       "<tr>\n",
       "  <th>x5</th>    <td>         0</td> <td>        0</td> <td>      nan</td> <td>   nan</td> <td>        0         0</td>\n",
       "</tr>\n",
       "<tr>\n",
       "  <th>x6</th>    <td>   63.4645</td> <td>    0.279</td> <td>  227.544</td> <td> 0.000</td> <td>   62.918    64.011</td>\n",
       "</tr>\n",
       "</table>"
      ],
      "text/plain": [
       "<class 'statsmodels.iolib.summary.Summary'>\n",
       "\"\"\"\n",
       "                 Generalized Linear Model Regression Results                  \n",
       "==============================================================================\n",
       "Dep. Variable:                      y   No. Observations:                  200\n",
       "Model:                            GLM   Df Residuals:                      195\n",
       "Model Family:                Gaussian   Df Model:                            4\n",
       "Link Function:               identity   Scale:                   15.3242663517\n",
       "Method:                          IRLS   Log-Likelihood:                -554.20\n",
       "Date:                Mon, 09 May 2016   Deviance:                       2988.2\n",
       "Time:                        14:43:25   Pearson chi2:                 2.99e+03\n",
       "No. Iterations:                     4                                         \n",
       "==============================================================================\n",
       "                 coef    std err          z      P>|z|      [95.0% Conf. Int.]\n",
       "------------------------------------------------------------------------------\n",
       "x1             2.3943      0.446      5.365      0.000         1.520     3.269\n",
       "x2            -1.8085      0.463     -3.909      0.000        -2.715    -0.902\n",
       "const      -4.945e-15   2.68e-15     -1.846      0.065     -1.02e-14  3.04e-16\n",
       "x3            -2.4503      0.446     -5.491      0.000        -3.325    -1.576\n",
       "x4             1.2484      0.463      2.699      0.007         0.342     2.155\n",
       "x5                  0          0        nan        nan             0         0\n",
       "x6            63.4645      0.279    227.544      0.000        62.918    64.011\n",
       "==============================================================================\n",
       "\"\"\""
      ]
     },
     "execution_count": 349,
     "metadata": {},
     "output_type": "execute_result"
    }
   ],
   "source": [
    "res1 = sm.GLM(y, Xp).fit()\n",
    "res1.summary()"
   ]
  },
  {
   "cell_type": "code",
   "execution_count": 363,
   "metadata": {
    "collapsed": false
   },
   "outputs": [
    {
     "data": {
      "text/html": [
       "<div>\n",
       "<table border=\"1\" class=\"dataframe\">\n",
       "  <thead>\n",
       "    <tr style=\"text-align: right;\">\n",
       "      <th></th>\n",
       "      <th>0</th>\n",
       "      <th>1</th>\n",
       "      <th>2</th>\n",
       "      <th>3</th>\n",
       "      <th>4</th>\n",
       "      <th>5</th>\n",
       "      <th>6</th>\n",
       "    </tr>\n",
       "  </thead>\n",
       "  <tbody>\n",
       "    <tr>\n",
       "      <th>0</th>\n",
       "      <td>1.0</td>\n",
       "      <td>0.0</td>\n",
       "      <td>0.0</td>\n",
       "      <td>0.0</td>\n",
       "      <td>1.0</td>\n",
       "      <td>0.0</td>\n",
       "      <td>1.0</td>\n",
       "    </tr>\n",
       "    <tr>\n",
       "      <th>1</th>\n",
       "      <td>0.0</td>\n",
       "      <td>1.0</td>\n",
       "      <td>0.0</td>\n",
       "      <td>1.0</td>\n",
       "      <td>0.0</td>\n",
       "      <td>0.0</td>\n",
       "      <td>1.0</td>\n",
       "    </tr>\n",
       "    <tr>\n",
       "      <th>2</th>\n",
       "      <td>0.0</td>\n",
       "      <td>0.0</td>\n",
       "      <td>1.0</td>\n",
       "      <td>1.0</td>\n",
       "      <td>0.0</td>\n",
       "      <td>0.0</td>\n",
       "      <td>1.0</td>\n",
       "    </tr>\n",
       "    <tr>\n",
       "      <th>3</th>\n",
       "      <td>1.0</td>\n",
       "      <td>0.0</td>\n",
       "      <td>0.0</td>\n",
       "      <td>0.0</td>\n",
       "      <td>0.0</td>\n",
       "      <td>1.0</td>\n",
       "      <td>1.0</td>\n",
       "    </tr>\n",
       "    <tr>\n",
       "      <th>4</th>\n",
       "      <td>0.0</td>\n",
       "      <td>1.0</td>\n",
       "      <td>0.0</td>\n",
       "      <td>0.0</td>\n",
       "      <td>0.0</td>\n",
       "      <td>1.0</td>\n",
       "      <td>1.0</td>\n",
       "    </tr>\n",
       "  </tbody>\n",
       "</table>\n",
       "</div>"
      ],
      "text/plain": [
       "     0    1    2    3    4    5    6\n",
       "0  1.0  0.0  0.0  0.0  1.0  0.0  1.0\n",
       "1  0.0  1.0  0.0  1.0  0.0  0.0  1.0\n",
       "2  0.0  0.0  1.0  1.0  0.0  0.0  1.0\n",
       "3  1.0  0.0  0.0  0.0  0.0  1.0  1.0\n",
       "4  0.0  1.0  0.0  0.0  0.0  1.0  1.0"
      ]
     },
     "execution_count": 363,
     "metadata": {},
     "output_type": "execute_result"
    }
   ],
   "source": [
    "N, k = 100, 3\n",
    "X, y, mus, oidx, didx, off_coef, def_coef = gen_data(N, k, append_intercept=True)\n",
    "# X[np.where(X[:, k] == 1)] = X[np.where(X[:, k] == 1)] - 1.0\n",
    "pd.DataFrame(X).head()"
   ]
  },
  {
   "cell_type": "code",
   "execution_count": 364,
   "metadata": {
    "collapsed": false
   },
   "outputs": [
    {
     "data": {
      "text/html": [
       "<div>\n",
       "<table border=\"1\" class=\"dataframe\">\n",
       "  <thead>\n",
       "    <tr style=\"text-align: right;\">\n",
       "      <th></th>\n",
       "      <th>0</th>\n",
       "      <th>1</th>\n",
       "      <th>2</th>\n",
       "      <th>3</th>\n",
       "      <th>4</th>\n",
       "      <th>5</th>\n",
       "      <th>6</th>\n",
       "    </tr>\n",
       "  </thead>\n",
       "  <tbody>\n",
       "    <tr>\n",
       "      <th>0</th>\n",
       "      <td>1.0</td>\n",
       "      <td>0.0</td>\n",
       "      <td>0.0</td>\n",
       "      <td>0.0</td>\n",
       "      <td>1.0</td>\n",
       "      <td>0.0</td>\n",
       "      <td>1.0</td>\n",
       "    </tr>\n",
       "    <tr>\n",
       "      <th>1</th>\n",
       "      <td>-1.0</td>\n",
       "      <td>-1.0</td>\n",
       "      <td>0.0</td>\n",
       "      <td>0.0</td>\n",
       "      <td>0.0</td>\n",
       "      <td>0.0</td>\n",
       "      <td>1.0</td>\n",
       "    </tr>\n",
       "    <tr>\n",
       "      <th>2</th>\n",
       "      <td>-1.0</td>\n",
       "      <td>-1.0</td>\n",
       "      <td>1.0</td>\n",
       "      <td>0.0</td>\n",
       "      <td>0.0</td>\n",
       "      <td>0.0</td>\n",
       "      <td>1.0</td>\n",
       "    </tr>\n",
       "    <tr>\n",
       "      <th>3</th>\n",
       "      <td>1.0</td>\n",
       "      <td>0.0</td>\n",
       "      <td>0.0</td>\n",
       "      <td>0.0</td>\n",
       "      <td>0.0</td>\n",
       "      <td>1.0</td>\n",
       "      <td>1.0</td>\n",
       "    </tr>\n",
       "    <tr>\n",
       "      <th>4</th>\n",
       "      <td>0.0</td>\n",
       "      <td>1.0</td>\n",
       "      <td>0.0</td>\n",
       "      <td>0.0</td>\n",
       "      <td>0.0</td>\n",
       "      <td>1.0</td>\n",
       "      <td>1.0</td>\n",
       "    </tr>\n",
       "  </tbody>\n",
       "</table>\n",
       "</div>"
      ],
      "text/plain": [
       "     0    1    2    3    4    5    6\n",
       "0  1.0  0.0  0.0  0.0  1.0  0.0  1.0\n",
       "1 -1.0 -1.0  0.0  0.0  0.0  0.0  1.0\n",
       "2 -1.0 -1.0  1.0  0.0  0.0  0.0  1.0\n",
       "3  1.0  0.0  0.0  0.0  0.0  1.0  1.0\n",
       "4  0.0  1.0  0.0  0.0  0.0  1.0  1.0"
      ]
     },
     "execution_count": 364,
     "metadata": {},
     "output_type": "execute_result"
    }
   ],
   "source": [
    "for i in range(X.shape[0]):\n",
    "    if X[i, k] == 1:\n",
    "        X[i, k] = 0\n",
    "        for j in range(k - 1):\n",
    "            X[i, j] = -1\n",
    "pd.DataFrame(X).head()"
   ]
  },
  {
   "cell_type": "code",
   "execution_count": 369,
   "metadata": {
    "collapsed": false
   },
   "outputs": [],
   "source": [
    "def gen_data(N, k, append_intercept=False):\n",
    "    np.random.seed(12)\n",
    "    indices = np.array([np.random.choice(range(k), 2, replace=False) for i in range(N)])\n",
    "    add = np.arange(2)*k\n",
    "    X = np.zeros((2 * N, 2 * k))\n",
    "    oidx, didx = [], []\n",
    "    for i, j in enumerate(range(0, 2 * N, 2)):\n",
    "        idx = indices[i]\n",
    "        X[j, idx + add] = 1\n",
    "        X[j + 1, idx[::-1] + add] = 1\n",
    "        oidx += list(idx)\n",
    "        didx += list(idx[::-1])\n",
    "    true_coef = np.random.normal(0, 2, 2 * k)\n",
    "    if append_intercept:\n",
    "        X = np.append(X, np.ones(X.shape[0])[:, np.newaxis], 1)\n",
    "        true_coef = np.append(true_coef, 65)\n",
    "    home = 5\n",
    "    mus = np.dot(X, true_coef)\n",
    "    y = np.random.normal(mus, 4)\n",
    "    off_coef, def_coef = true_coef[:k], true_coef[k:]\n",
    "    return X, y, mus, np.array(oidx), np.array(didx), off_coef, def_coef"
   ]
  },
  {
   "cell_type": "code",
   "execution_count": 413,
   "metadata": {
    "collapsed": false
   },
   "outputs": [],
   "source": [
    "def gen_matchups(N, k):\n",
    "    np.random.seed(12)\n",
    "    indices = np.array([np.random.choice(range(k), 2, replace=False) for i in range(N)])\n",
    "    return indices\n",
    "def make_dummies(idx, k):\n",
    "    leave_out = k - 1\n",
    "    M = np.zeros((idx.shape[0] * 2, 2 * (k - 1)))\n",
    "    for i, pairing in enumerate(idx):\n",
    "        offset = i * 2\n",
    "        h, a = pairing[0], pairing[1]\n",
    "        if h == leave_out:\n",
    "            for j in range(k - 1):\n",
    "                M[offset, j] = -1.\n",
    "                M[offset + 1, (k - 1) + j] = -1.\n",
    "        else:\n",
    "            M[offset, h] = 1.\n",
    "            M[offset + 1, (k - 1) + h] = 1.\n",
    "        if a == leave_out:\n",
    "            for j in range(k - 1):\n",
    "                M[offset + 1, j] = -1.\n",
    "                M[offset, k - 1 + j] = -1\n",
    "        else:\n",
    "            M[offset + 1, a] = 1.\n",
    "            M[offset, k - 1 + a] = 1.\n",
    "    return M\n",
    "def _concat(O, D):\n",
    "    return np.append(O, D, axis=1)\n",
    "def gen_data(X, N, k):\n",
    "    np.random.seed(12)\n",
    "    off_coef = np.random.normal(0, 2, k)\n",
    "    def_coef = np.random.normal(0, 2, k)\n",
    "    off_coef -= np.mean(off_coef)\n",
    "    def_coef -= np.mean(def_coef)\n",
    "    home = 5\n",
    "    coefs = np.append(off_coef[:k-1], def_coef[:k-1])\n",
    "    X = np.append(X, np.ones(X.shape[0])[:, np.newaxis], 1)\n",
    "    mus = np.dot(X, np.append(coefs, 65))\n",
    "    y = np.random.normal(mus, 4)\n",
    "    return X, y, mus, off_coef, def_coef\n",
    "    "
   ]
  },
  {
   "cell_type": "code",
   "execution_count": 414,
   "metadata": {
    "collapsed": false
   },
   "outputs": [],
   "source": [
    "idx= gen_matchups(N, k)\n",
    "M = make_dummies(idx, k)\n",
    "X, y, mus, o, d = gen_data(M, N, k)\n",
    "res = sm.GLM(y, X).fit()"
   ]
  },
  {
   "cell_type": "code",
   "execution_count": 432,
   "metadata": {
    "collapsed": false
   },
   "outputs": [
    {
     "data": {
      "text/plain": [
       "array([0, 1, 2, 0, 1, 2, 0, 1, 2, 1, 0, 2, 0, 1, 1, 0, 2, 1, 1, 2, 2, 0, 0,\n",
       "       2, 1, 0, 2, 0, 1, 2, 1, 0, 1, 2, 0, 1, 0, 2, 2, 0, 1, 2, 0, 1, 0, 2,\n",
       "       2, 1, 2, 0, 2, 0, 1, 2, 2, 1, 2, 1, 0, 2, 2, 1, 0, 2, 1, 2, 1, 0, 0,\n",
       "       1, 1, 0, 1, 0, 2, 1, 2, 0, 2, 1, 0, 2, 2, 1, 0, 2, 0, 2, 2, 1, 0, 1,\n",
       "       2, 0, 2, 1, 1, 0, 1, 0, 2, 1, 1, 0, 2, 1, 2, 1, 2, 1, 0, 2, 2, 0, 1,\n",
       "       2, 2, 0, 2, 0, 0, 1, 0, 1, 1, 2, 1, 2, 1, 2, 1, 2, 1, 0, 2, 0, 1, 0,\n",
       "       2, 1, 1, 2, 1, 2, 2, 0, 1, 0, 0, 2, 2, 1, 1, 2, 2, 0, 2, 1, 1, 0, 2,\n",
       "       1, 2, 1, 1, 0, 0, 1, 1, 2, 1, 0, 2, 1, 2, 0, 2, 0, 1, 0, 2, 0, 0, 1,\n",
       "       0, 1, 2, 0, 0, 2, 2, 1, 2, 1, 1, 2, 1, 0, 1, 2])"
      ]
     },
     "execution_count": 432,
     "metadata": {},
     "output_type": "execute_result"
    }
   ],
   "source": [
    "idx.ravel()"
   ]
  },
  {
   "cell_type": "code",
   "execution_count": 439,
   "metadata": {
    "collapsed": false
   },
   "outputs": [
    {
     "data": {
      "text/plain": [
       "(array([[1, 0],\n",
       "        [0, 2],\n",
       "        [2, 1],\n",
       "        [1, 0],\n",
       "        [1, 2]]), array([[0, 1],\n",
       "        [2, 0],\n",
       "        [1, 2],\n",
       "        [0, 1],\n",
       "        [2, 1]]))"
      ]
     },
     "execution_count": 439,
     "metadata": {},
     "output_type": "execute_result"
    }
   ],
   "source": [
    "np.fliplr(idx)[:5], idx[:5]"
   ]
  },
  {
   "cell_type": "code",
   "execution_count": null,
   "metadata": {
    "collapsed": true
   },
   "outputs": [],
   "source": []
  }
 ],
 "metadata": {
  "kernelspec": {
   "display_name": "Python 3",
   "language": "python",
   "name": "python3"
  },
  "language_info": {
   "codemirror_mode": {
    "name": "ipython",
    "version": 3
   },
   "file_extension": ".py",
   "mimetype": "text/x-python",
   "name": "python",
   "nbconvert_exporter": "python",
   "pygments_lexer": "ipython3",
   "version": "3.4.3"
  }
 },
 "nbformat": 4,
 "nbformat_minor": 0
}
