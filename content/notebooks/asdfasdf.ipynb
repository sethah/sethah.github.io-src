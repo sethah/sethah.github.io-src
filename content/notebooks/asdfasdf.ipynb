{
 "cells": [
  {
   "cell_type": "code",
   "execution_count": 1,
   "metadata": {
    "collapsed": true
   },
   "outputs": [],
   "source": [
    "%load_ext autoreload\n",
    "%autoreload 2"
   ]
  },
  {
   "cell_type": "code",
   "execution_count": 2,
   "metadata": {
    "collapsed": true
   },
   "outputs": [],
   "source": [
    "import pymc3 as pm\n",
    "import numpy as np\n",
    "import pandas as pd\n",
    "import scipy.stats\n",
    "\n",
    "import RatingsHelper as helper\n",
    "\n",
    "from scipy import optimize\n",
    "import theano as thno\n",
    "import theano.tensor as T\n",
    "\n",
    "# data retrieval helper module\n",
    "from general.DB import DB\n",
    "import util\n",
    "\n",
    "import statsmodels.api as sm\n",
    "\n",
    "# plotting libraries\n",
    "import matplotlib.pyplot as plt\n",
    "import matplotlib.mlab as mlab\n",
    "import seaborn as sns\n",
    "%matplotlib inline"
   ]
  },
  {
   "cell_type": "markdown",
   "metadata": {},
   "source": [
    "So lately I have been getting very interested in probabilistic programming, specifically probabilistic graphical models, and wondering how I can apply them to college basketball ratings. I really like the idea of being to able to specify data problems graphically through probability models. So I started looking around the internet for similar examples of probabilistic graphical models (PGMs) applied to sports ratings, specifically implementations using Python interfaces like PyMC.\n",
    "\n",
    "With some success, I found a really [nice write-up](http://danielweitzenfeld.github.io/passtheroc/blog/2014/10/28/bayes-premier-league/) on building a hierarchical Bayesian model to rate 20 soccer teams of the Premier league. The post is actually (mostly) a reconstruction of work performed in a similar paper [found here](http://www.statistica.it/gianluca/Research/BaioBlangiardo.pdf). Anyway, they both use relatively simple, intuitive models to describe how points (goals in this case) are produced in a soccer game. I'll adapt it here to build a similar process for college basketball games."
   ]
  },
  {
   "cell_type": "markdown",
   "metadata": {
    "collapsed": true
   },
   "source": [
    "## A scoring model for college basketball\n",
    "\n",
    "There are many, many different approaches we could take to rating sports team's and, indeed, many have been applied in practice. Being able to better predict the outcomes of games that people care about and that people bet money on, it turns out, is quite appealing. One challenge that college basketball has, moreso than other sports, is that it is more difficult to measure a team's strength based off of traditional statistics that can be directly observed. We cannot simply look at wins/losses or points scored/allowed directly because college basketball team's play vastly different strengths of schedule. A team's observed output depends on the true skill of the team's that they have played. And the true skill of each team that they have played depends, in turn, on the true skill of the teams _those_ teams have played. So for college basketball ratings we can't just take some stats (\"advanced\" or otherwise) from the box score, shove them into a feature matrix, and run some scikit-learn algorithm (well, we could, but it wouldn't be very good). We need to think a bit deeper.\n",
    "\n",
    "To solve our issues here, let's not think about how what we observe determines team ratings, but about how team ratings determine what we observe. This is a latent variable problem. When two team's play their ratings, which are hidden to us, combine to determine (approximately) what the outcome will be.\n",
    "\n",
    "To formulate the process, we say that each team possesses an \"offensive skill\" rating and a \"defensive skill\" rating. When team A playes team B, the _expected_ points that team A will score is determined by team A's offensive skill and team B's defensive skill. But, as most college basketball fans (or sports fans in general) can tell you, if two team's play multiple games under exactly the same conditions, the actual score for team A will vary game-to-game. We in the data game like to call that randomness. So, a reasonable model for this randomness might be to assume that the true score is drawn from a normal distribution centered at the _expected_ points scored by team A. This model will be slightly more interpretable if we add an intercept, such that the offensive and defensive \"skills\" can be interpreted as points above or below average. \n",
    "\n",
    "For example, say the Bayes Ballers matchup versus Newton Netters where the two team's skills are:"
   ]
  },
  {
   "cell_type": "code",
   "execution_count": 3,
   "metadata": {
    "collapsed": false
   },
   "outputs": [
    {
     "data": {
      "text/html": [
       "<div>\n",
       "<table border=\"1\" class=\"dataframe\">\n",
       "  <thead>\n",
       "    <tr style=\"text-align: right;\">\n",
       "      <th></th>\n",
       "      <th>Team</th>\n",
       "      <th>Off. Skill</th>\n",
       "      <th>Def. Skill</th>\n",
       "    </tr>\n",
       "  </thead>\n",
       "  <tbody>\n",
       "    <tr>\n",
       "      <th>0</th>\n",
       "      <td>Bayes Ballers</td>\n",
       "      <td>5</td>\n",
       "      <td>2</td>\n",
       "    </tr>\n",
       "    <tr>\n",
       "      <th>1</th>\n",
       "      <td>Newton Netters</td>\n",
       "      <td>-1</td>\n",
       "      <td>-3</td>\n",
       "    </tr>\n",
       "  </tbody>\n",
       "</table>\n",
       "</div>"
      ],
      "text/plain": [
       "             Team  Off. Skill  Def. Skill\n",
       "0   Bayes Ballers           5           2\n",
       "1  Newton Netters          -1          -3"
      ]
     },
     "execution_count": 3,
     "metadata": {},
     "output_type": "execute_result"
    }
   ],
   "source": [
    "pd.DataFrame([[\"Bayes Ballers\", 5, 2], [\"Newton Netters\", -1, -3]], columns=[\"Team\", \"Off. Skill\", \"Def. Skill\"])"
   ]
  },
  {
   "cell_type": "markdown",
   "metadata": {},
   "source": [
    "We can interpret this as the Bayes Ballers scoring 5 points more than the league average and allowing 2 points more to opposing offenses than the league average. For the Newton Netters, they score 1 point less than the league average but allow 3 points less on defense. Assuming the league point average is 70 points, the expected points for each team are:\n",
    "\n",
    "* Bayes Ballers expected points: 5 + -3 + 70 = 72\n",
    "* Newton Netters expected points: -1 + 2 + 70 = 71\n",
    "\n",
    "So, on average, we expect the Bayes Ballers to defeat the Newton Netters by a score of 72-71, a margin of one point. Still, that does not mean that the Newton Netters won't win from time to time. After all, the two team's seem pretty evenly matched and we know there is some randomness in the scores. Above, we said that the _expected_ points are fully determined by the team's ratings, but the true points, i.e. the points that we actually observe, are noisy or have some randomness. We chose to model that by saying that the true points are drawn from a constant mean Gaussian distribution centered at each team's expected point totals. \n",
    "\n",
    "We now have a model that allows us to explain the scores we see in college basketball games, and we know they are partly due to skill, and partly due to randomness. We can show this as a probabilistic graphical model via a DAG structure. \n",
    "\n",
    "Note: We'll also add a home court advantage parameter to our model, which will come in handy using real data.\n",
    "\n",
    "TODO\n",
    "\n",
    "Cool, we have now described a Bayesian network structure and all we should have left to do is to dump it into PyMC(3) and hit the inference button! \n",
    "\n",
    "**Not so fast.**\n",
    "\n",
    "### An old friend\n",
    "Let's restate what we have here: we have a model where a linear combination of explanatory variables (offensive/defensive skills, intercept, home advantage) influences the expected value of the response variable, which is a _random variable_ drawn from a normal distribution. Sound familiar? That's right, this is just the description of generalized linear model with a Gaussian family and identity link function! We got all excited to use our fancy probabilistic programming tools, equipped with our pretty graphical model, and all the while the dusty old linear model was sitting in the corner just waiting for us to notice.\n",
    "\n",
    "In fact, it turns out that this type of ratings model was made prominent in the college basketball landscape by Kenneth Massey, who details such a model in [this mathematical paper from 1997](http://www.masseyratings.com/theory/massey97.pdf). Despite the wonky formatting, it's definitely worth a read for those looking for a gentle, mathematical introduction to sports ratings.\n",
    "\n",
    "How shall we proceed then? We got all excited to use our PyMC inference button, only to realize that we had created a glorified linear regression that's been sitting in some pre-LaTeX era word document since 1997?! Despite our initial disappointment, it will be informative and even interesting to carry out this exercise using both the boring, old GLM and our PyMC inference button. To start, we'll work through an example with some made-up data using the [Statsmodels Python package](http://statsmodels.sourceforge.net/stable/index.html) for the GLM, and PyMC3 for the Bayesian network. We'll use some helper functions to synthesize data for a number of games between 5 teams.\n",
    "\n",
    "## Validating models using simulated data"
   ]
  },
  {
   "cell_type": "code",
   "execution_count": 406,
   "metadata": {
    "collapsed": false
   },
   "outputs": [
    {
     "name": "stdout",
     "output_type": "stream",
     "text": [
      "Team true offensive skill ratings: [ 4.54597606 -1.92341316 -0.42714056  0.6969478  -2.89237014]\n",
      "Team true defensive skill ratings: [ 0.08743228  0.0785644  -5.18293736  3.13420958  1.88273111]\n"
     ]
    },
    {
     "data": {
      "text/html": [
       "<div>\n",
       "<table border=\"1\" class=\"dataframe\">\n",
       "  <thead>\n",
       "    <tr style=\"text-align: right;\">\n",
       "      <th></th>\n",
       "      <th>Home Team</th>\n",
       "      <th>Away Team</th>\n",
       "      <th>Home Off. Skill</th>\n",
       "      <th>Home Def. Skill</th>\n",
       "      <th>Away Off. Skill</th>\n",
       "      <th>Away Def. Skill</th>\n",
       "      <th>E[Home]</th>\n",
       "      <th>E[Away]</th>\n",
       "      <th>Home Score</th>\n",
       "      <th>Away Score</th>\n",
       "    </tr>\n",
       "  </thead>\n",
       "  <tbody>\n",
       "    <tr>\n",
       "      <th>0</th>\n",
       "      <td>0</td>\n",
       "      <td>3</td>\n",
       "      <td>4.545976</td>\n",
       "      <td>0.087432</td>\n",
       "      <td>0.696948</td>\n",
       "      <td>3.134210</td>\n",
       "      <td>80.680186</td>\n",
       "      <td>67.784380</td>\n",
       "      <td>81.819932</td>\n",
       "      <td>66.175121</td>\n",
       "    </tr>\n",
       "    <tr>\n",
       "      <th>1</th>\n",
       "      <td>2</td>\n",
       "      <td>1</td>\n",
       "      <td>-0.427141</td>\n",
       "      <td>-5.182937</td>\n",
       "      <td>-1.923413</td>\n",
       "      <td>0.078564</td>\n",
       "      <td>72.651424</td>\n",
       "      <td>59.893649</td>\n",
       "      <td>75.664517</td>\n",
       "      <td>63.746799</td>\n",
       "    </tr>\n",
       "    <tr>\n",
       "      <th>2</th>\n",
       "      <td>3</td>\n",
       "      <td>4</td>\n",
       "      <td>0.696948</td>\n",
       "      <td>3.134210</td>\n",
       "      <td>-2.892370</td>\n",
       "      <td>1.882731</td>\n",
       "      <td>75.579679</td>\n",
       "      <td>67.241839</td>\n",
       "      <td>77.180043</td>\n",
       "      <td>68.435967</td>\n",
       "    </tr>\n",
       "    <tr>\n",
       "      <th>3</th>\n",
       "      <td>1</td>\n",
       "      <td>3</td>\n",
       "      <td>-1.923413</td>\n",
       "      <td>0.078564</td>\n",
       "      <td>0.696948</td>\n",
       "      <td>3.134210</td>\n",
       "      <td>74.210796</td>\n",
       "      <td>67.775512</td>\n",
       "      <td>72.444786</td>\n",
       "      <td>69.050445</td>\n",
       "    </tr>\n",
       "    <tr>\n",
       "      <th>4</th>\n",
       "      <td>1</td>\n",
       "      <td>2</td>\n",
       "      <td>-1.923413</td>\n",
       "      <td>0.078564</td>\n",
       "      <td>-0.427141</td>\n",
       "      <td>-5.182937</td>\n",
       "      <td>65.893649</td>\n",
       "      <td>66.651424</td>\n",
       "      <td>66.743539</td>\n",
       "      <td>62.323592</td>\n",
       "    </tr>\n",
       "  </tbody>\n",
       "</table>\n",
       "</div>"
      ],
      "text/plain": [
       "   Home Team  Away Team  Home Off. Skill  Home Def. Skill  Away Off. Skill  \\\n",
       "0          0          3         4.545976         0.087432         0.696948   \n",
       "1          2          1        -0.427141        -5.182937        -1.923413   \n",
       "2          3          4         0.696948         3.134210        -2.892370   \n",
       "3          1          3        -1.923413         0.078564         0.696948   \n",
       "4          1          2        -1.923413         0.078564        -0.427141   \n",
       "\n",
       "   Away Def. Skill    E[Home]    E[Away]  Home Score  Away Score  \n",
       "0         3.134210  80.680186  67.784380   81.819932   66.175121  \n",
       "1         0.078564  72.651424  59.893649   75.664517   63.746799  \n",
       "2         1.882731  75.579679  67.241839   77.180043   68.435967  \n",
       "3         3.134210  74.210796  67.775512   72.444786   69.050445  \n",
       "4        -5.182937  65.893649  66.651424   66.743539   62.323592  "
      ]
     },
     "execution_count": 406,
     "metadata": {},
     "output_type": "execute_result"
    }
   ],
   "source": [
    "num_games, num_teams = 200, 5\n",
    "off_skill, def_skill = helper.gen_ratings(num_teams)\n",
    "print(\"Team true offensive skill ratings: %s\" % off_skill)\n",
    "print(\"Team true defensive skill ratings: %s\" % def_skill)\n",
    "# generate 200 random pairings between the 5 teams\n",
    "matchups = helper.gen_matchups(num_games, num_teams)\n",
    "intercept = 70  # mean score in units of points\n",
    "home_advantage = 3  # home court advantage in units of points\n",
    "true_std = 3  # constant standard deviation used in the actual score generation\n",
    "games_df = helper.construct_games(off_skill, def_skill, matchups, intercept, home_advantage, true_std)\n",
    "games_df.head()"
   ]
  },
  {
   "cell_type": "markdown",
   "metadata": {},
   "source": [
    "For each team we made up an offensive and defensive skill rating, and then randomly created pairings of the teams as games. In each game, we compute an expected home score E[Home] and an expected away score E[Away] and then use these values as the means of normal distributions from which the true scores (Home Score and Away Score) are drawn. We chose the standard deviation for this normal distribution to be a constant (i.e. homoscedastic) value of 3. To verify this, we can plot the errors between actual and expected scores, which should be distributed according to $\\mathcal{N}(0, 3)$"
   ]
  },
  {
   "cell_type": "code",
   "execution_count": 409,
   "metadata": {
    "collapsed": false
   },
   "outputs": [
    {
     "name": "stdout",
     "output_type": "stream",
     "text": [
      "Errors distributed with mean -0.01 and standard deviation 3.07\n"
     ]
    },
    {
     "data": {
      "image/png": "[encoded data removed]",
      "text/plain": [
       "<matplotlib.figure.Figure at 0x14d4427b8>"
      ]
     },
     "metadata": {},
     "output_type": "display_data"
    }
   ],
   "source": [
    "home_errors = games_df['Home Score'] - games_df['E[Home]']\n",
    "away_errors = games_df['Away Score'] - games_df['E[Away]']\n",
    "errors = np.append(home_errors.values, away_errors.values)\n",
    "sns.distplot(errors)\n",
    "print(\"Errors distributed with mean %1.2f and standard deviation %1.2f\" % (np.mean(errors), np.std(errors)))"
   ]
  },
  {
   "cell_type": "markdown",
   "metadata": {},
   "source": [
    "The data is pretty close to the normal distribution we'd expect, give or take some randomness. Now, to actually use this in a ratings model, we need to do some data wrangling. There are actually two sample points per row in the current dataframe, one for the home team and one for the away team. Let's \"stack\" the data which will double the number of rows, and drop some columns we don't need for the model."
   ]
  },
  {
   "cell_type": "code",
   "execution_count": 389,
   "metadata": {
    "collapsed": false
   },
   "outputs": [
    {
     "data": {
      "text/html": [
       "<div>\n",
       "<table border=\"1\" class=\"dataframe\">\n",
       "  <thead>\n",
       "    <tr style=\"text-align: right;\">\n",
       "      <th></th>\n",
       "      <th>Off. Team</th>\n",
       "      <th>Def. Team</th>\n",
       "      <th>Home</th>\n",
       "      <th>Score</th>\n",
       "    </tr>\n",
       "  </thead>\n",
       "  <tbody>\n",
       "    <tr>\n",
       "      <th>0</th>\n",
       "      <td>0</td>\n",
       "      <td>3</td>\n",
       "      <td>1</td>\n",
       "      <td>81.819932</td>\n",
       "    </tr>\n",
       "    <tr>\n",
       "      <th>1</th>\n",
       "      <td>3</td>\n",
       "      <td>0</td>\n",
       "      <td>-1</td>\n",
       "      <td>66.175121</td>\n",
       "    </tr>\n",
       "    <tr>\n",
       "      <th>2</th>\n",
       "      <td>2</td>\n",
       "      <td>1</td>\n",
       "      <td>1</td>\n",
       "      <td>75.664517</td>\n",
       "    </tr>\n",
       "    <tr>\n",
       "      <th>3</th>\n",
       "      <td>1</td>\n",
       "      <td>2</td>\n",
       "      <td>-1</td>\n",
       "      <td>63.746799</td>\n",
       "    </tr>\n",
       "    <tr>\n",
       "      <th>4</th>\n",
       "      <td>3</td>\n",
       "      <td>4</td>\n",
       "      <td>1</td>\n",
       "      <td>77.180043</td>\n",
       "    </tr>\n",
       "  </tbody>\n",
       "</table>\n",
       "</div>"
      ],
      "text/plain": [
       "   Off. Team  Def. Team  Home      Score\n",
       "0          0          3     1  81.819932\n",
       "1          3          0    -1  66.175121\n",
       "2          2          1     1  75.664517\n",
       "3          1          2    -1  63.746799\n",
       "4          3          4     1  77.180043"
      ]
     },
     "execution_count": 389,
     "metadata": {},
     "output_type": "execute_result"
    }
   ],
   "source": [
    "feature_df = helper.construct_feature_df(games_df)\n",
    "feature_df.head()"
   ]
  },
  {
   "cell_type": "markdown",
   "metadata": {},
   "source": [
    "In our new feature dataframe, the first two rows correspond to game 1, which paired team 0 (home) vs team 1 (away), while the second game was team 4 (home) vs team 3 (away), and so on. Still, for use in a GLM model, we cannot simply use the \"Off. Team\" and \"Def. Team\" columns as features because they are categorical. Though these columns have numeric values, they are just team identifiers and carry no true numeric meaning. We can use pandas to generate dummy variables, or binary encodings, for our team columns"
   ]
  },
  {
   "cell_type": "code",
   "execution_count": 390,
   "metadata": {
    "collapsed": false
   },
   "outputs": [
    {
     "data": {
      "text/html": [
       "<div>\n",
       "<table border=\"1\" class=\"dataframe\">\n",
       "  <thead>\n",
       "    <tr style=\"text-align: right;\">\n",
       "      <th></th>\n",
       "      <th>Off. Team</th>\n",
       "      <th>Def. Team</th>\n",
       "      <th>Home</th>\n",
       "      <th>Score</th>\n",
       "      <th>off_0</th>\n",
       "      <th>off_1</th>\n",
       "      <th>off_2</th>\n",
       "      <th>off_3</th>\n",
       "      <th>off_4</th>\n",
       "      <th>def_0</th>\n",
       "      <th>def_1</th>\n",
       "      <th>def_2</th>\n",
       "      <th>def_3</th>\n",
       "      <th>def_4</th>\n",
       "      <th>const</th>\n",
       "    </tr>\n",
       "  </thead>\n",
       "  <tbody>\n",
       "    <tr>\n",
       "      <th>0</th>\n",
       "      <td>0</td>\n",
       "      <td>3</td>\n",
       "      <td>1</td>\n",
       "      <td>81.819932</td>\n",
       "      <td>1.0</td>\n",
       "      <td>0.0</td>\n",
       "      <td>0.0</td>\n",
       "      <td>0.0</td>\n",
       "      <td>0.0</td>\n",
       "      <td>0.0</td>\n",
       "      <td>0.0</td>\n",
       "      <td>0.0</td>\n",
       "      <td>1.0</td>\n",
       "      <td>0.0</td>\n",
       "      <td>1.0</td>\n",
       "    </tr>\n",
       "    <tr>\n",
       "      <th>1</th>\n",
       "      <td>3</td>\n",
       "      <td>0</td>\n",
       "      <td>-1</td>\n",
       "      <td>66.175121</td>\n",
       "      <td>0.0</td>\n",
       "      <td>0.0</td>\n",
       "      <td>0.0</td>\n",
       "      <td>1.0</td>\n",
       "      <td>0.0</td>\n",
       "      <td>1.0</td>\n",
       "      <td>0.0</td>\n",
       "      <td>0.0</td>\n",
       "      <td>0.0</td>\n",
       "      <td>0.0</td>\n",
       "      <td>1.0</td>\n",
       "    </tr>\n",
       "    <tr>\n",
       "      <th>2</th>\n",
       "      <td>2</td>\n",
       "      <td>1</td>\n",
       "      <td>1</td>\n",
       "      <td>75.664517</td>\n",
       "      <td>0.0</td>\n",
       "      <td>0.0</td>\n",
       "      <td>1.0</td>\n",
       "      <td>0.0</td>\n",
       "      <td>0.0</td>\n",
       "      <td>0.0</td>\n",
       "      <td>1.0</td>\n",
       "      <td>0.0</td>\n",
       "      <td>0.0</td>\n",
       "      <td>0.0</td>\n",
       "      <td>1.0</td>\n",
       "    </tr>\n",
       "    <tr>\n",
       "      <th>3</th>\n",
       "      <td>1</td>\n",
       "      <td>2</td>\n",
       "      <td>-1</td>\n",
       "      <td>63.746799</td>\n",
       "      <td>0.0</td>\n",
       "      <td>1.0</td>\n",
       "      <td>0.0</td>\n",
       "      <td>0.0</td>\n",
       "      <td>0.0</td>\n",
       "      <td>0.0</td>\n",
       "      <td>0.0</td>\n",
       "      <td>1.0</td>\n",
       "      <td>0.0</td>\n",
       "      <td>0.0</td>\n",
       "      <td>1.0</td>\n",
       "    </tr>\n",
       "    <tr>\n",
       "      <th>4</th>\n",
       "      <td>3</td>\n",
       "      <td>4</td>\n",
       "      <td>1</td>\n",
       "      <td>77.180043</td>\n",
       "      <td>0.0</td>\n",
       "      <td>0.0</td>\n",
       "      <td>0.0</td>\n",
       "      <td>1.0</td>\n",
       "      <td>0.0</td>\n",
       "      <td>0.0</td>\n",
       "      <td>0.0</td>\n",
       "      <td>0.0</td>\n",
       "      <td>0.0</td>\n",
       "      <td>1.0</td>\n",
       "      <td>1.0</td>\n",
       "    </tr>\n",
       "  </tbody>\n",
       "</table>\n",
       "</div>"
      ],
      "text/plain": [
       "   Off. Team  Def. Team  Home      Score  off_0  off_1  off_2  off_3  off_4  \\\n",
       "0          0          3     1  81.819932    1.0    0.0    0.0    0.0    0.0   \n",
       "1          3          0    -1  66.175121    0.0    0.0    0.0    1.0    0.0   \n",
       "2          2          1     1  75.664517    0.0    0.0    1.0    0.0    0.0   \n",
       "3          1          2    -1  63.746799    0.0    1.0    0.0    0.0    0.0   \n",
       "4          3          4     1  77.180043    0.0    0.0    0.0    1.0    0.0   \n",
       "\n",
       "   def_0  def_1  def_2  def_3  def_4  const  \n",
       "0    0.0    0.0    0.0    1.0    0.0    1.0  \n",
       "1    1.0    0.0    0.0    0.0    0.0    1.0  \n",
       "2    0.0    1.0    0.0    0.0    0.0    1.0  \n",
       "3    0.0    0.0    1.0    0.0    0.0    1.0  \n",
       "4    0.0    0.0    0.0    0.0    1.0    1.0  "
      ]
     },
     "execution_count": 390,
     "metadata": {},
     "output_type": "execute_result"
    }
   ],
   "source": [
    "off_dummies = pd.get_dummies(feature_df['Off. Team'], prefix='off')\n",
    "def_dummies = pd.get_dummies(feature_df['Def. Team'], prefix='def')\n",
    "glm_df = pd.concat([feature_df, off_dummies, def_dummies], 1)\n",
    "glm_df['const'] = np.ones(glm_df.shape[0])\n",
    "glm_df.head()"
   ]
  },
  {
   "cell_type": "markdown",
   "metadata": {},
   "source": [
    "Taking the subset of these columns that we care about, we end up with the following linear system:\n",
    "\n",
    "$$\n",
    "\\begin{bmatrix}\n",
    "    1 & 0 & 0 & 0 & 0 & 0 & 0 & 0 & 1 & 0 & 1 & 1\\\\\n",
    "    0 & 0 & 0 & 1 & 0 & 1 & 0 & 0 & 0 & 0 & -1 & 1\\\\\n",
    "    &&&&&&\\vdots\\\\\n",
    "\\end{bmatrix}\n",
    "\\begin{bmatrix}\n",
    "    \\beta^o_0\\\\\n",
    "    \\beta^o_1\\\\\n",
    "    \\vdots\\\\\n",
    "    \\beta^d_0\\\\\n",
    "    \\beta^d_1\\\\\n",
    "    \\vdots\\\\\n",
    "    home\\\\\n",
    "    intercept\\\\\n",
    "\\end{bmatrix} = \n",
    "\\begin{bmatrix}\n",
    "    76.223\\\\\n",
    "    61.633\\\\\n",
    "    \\vdots\\\\\n",
    "\\end{bmatrix}\n",
    "$$"
   ]
  },
  {
   "cell_type": "markdown",
   "metadata": {},
   "source": [
    "A system of this form can be solved easily via the classical method of least squares using whatever one of the many solver packages you like. However, the astute reader will have detected a small (but absolutely critical!) problem with the system we have constructed. When we encoded the dummy variables, we did not drop any of the columns and so we are left with linearly dependent columns in our feature matrix. To be more explicit, one can determine, exactly, the fifth offensive rating column given any of the other four (likewise with the defense). \n",
    "\n",
    "We can also view this slightly differently--since we have an intercept, we could add an arbitrary offset to all the offensive ratings and subtract the same from the intercept and still have a valid solution. So, we need to impose some identifiability constraints. We can do this simply by mandating that the offensive ratings all sum to zero (i.e. the average team has a zero offensive rating) and do the same for the defense. This can be interpreted as a constraint on the last columns of the offense and defense:\n",
    "\n",
    "$$\n",
    "\\sum_{i=1}^{N} \\beta_i^o = 0, \\sum_{i=1}^{N} \\beta_i^d = 0\\\\\n",
    "-\\sum_{i=1}^{N-1} \\beta^o_i = \\beta^o_N, \\: -\\sum_{i=1}^{N-1} \\beta^d_i = \\beta^d_N\n",
    "$$\n",
    "\n",
    "Where a one appeared in the last column of our feature matrix before, we can replace it with -1 in all the other columns and we will have effectively enforced the sum to zero constraints. Our new dataframe is shown below:"
   ]
  },
  {
   "cell_type": "code",
   "execution_count": 391,
   "metadata": {
    "collapsed": false
   },
   "outputs": [
    {
     "data": {
      "text/html": [
       "<div>\n",
       "<table border=\"1\" class=\"dataframe\">\n",
       "  <thead>\n",
       "    <tr style=\"text-align: right;\">\n",
       "      <th></th>\n",
       "      <th>Off. Team</th>\n",
       "      <th>Def. Team</th>\n",
       "      <th>Home</th>\n",
       "      <th>Score</th>\n",
       "      <th>off_0</th>\n",
       "      <th>off_1</th>\n",
       "      <th>off_2</th>\n",
       "      <th>off_3</th>\n",
       "      <th>def_0</th>\n",
       "      <th>def_1</th>\n",
       "      <th>def_2</th>\n",
       "      <th>def_3</th>\n",
       "      <th>const</th>\n",
       "    </tr>\n",
       "  </thead>\n",
       "  <tbody>\n",
       "    <tr>\n",
       "      <th>0</th>\n",
       "      <td>0</td>\n",
       "      <td>3</td>\n",
       "      <td>1</td>\n",
       "      <td>81.819932</td>\n",
       "      <td>1.0</td>\n",
       "      <td>0.0</td>\n",
       "      <td>0.0</td>\n",
       "      <td>0.0</td>\n",
       "      <td>0.0</td>\n",
       "      <td>0.0</td>\n",
       "      <td>0.0</td>\n",
       "      <td>1.0</td>\n",
       "      <td>1.0</td>\n",
       "    </tr>\n",
       "    <tr>\n",
       "      <th>1</th>\n",
       "      <td>3</td>\n",
       "      <td>0</td>\n",
       "      <td>-1</td>\n",
       "      <td>66.175121</td>\n",
       "      <td>0.0</td>\n",
       "      <td>0.0</td>\n",
       "      <td>0.0</td>\n",
       "      <td>1.0</td>\n",
       "      <td>1.0</td>\n",
       "      <td>0.0</td>\n",
       "      <td>0.0</td>\n",
       "      <td>0.0</td>\n",
       "      <td>1.0</td>\n",
       "    </tr>\n",
       "    <tr>\n",
       "      <th>2</th>\n",
       "      <td>2</td>\n",
       "      <td>1</td>\n",
       "      <td>1</td>\n",
       "      <td>75.664517</td>\n",
       "      <td>0.0</td>\n",
       "      <td>0.0</td>\n",
       "      <td>1.0</td>\n",
       "      <td>0.0</td>\n",
       "      <td>0.0</td>\n",
       "      <td>1.0</td>\n",
       "      <td>0.0</td>\n",
       "      <td>0.0</td>\n",
       "      <td>1.0</td>\n",
       "    </tr>\n",
       "    <tr>\n",
       "      <th>3</th>\n",
       "      <td>1</td>\n",
       "      <td>2</td>\n",
       "      <td>-1</td>\n",
       "      <td>63.746799</td>\n",
       "      <td>0.0</td>\n",
       "      <td>1.0</td>\n",
       "      <td>0.0</td>\n",
       "      <td>0.0</td>\n",
       "      <td>0.0</td>\n",
       "      <td>0.0</td>\n",
       "      <td>1.0</td>\n",
       "      <td>0.0</td>\n",
       "      <td>1.0</td>\n",
       "    </tr>\n",
       "    <tr>\n",
       "      <th>4</th>\n",
       "      <td>3</td>\n",
       "      <td>4</td>\n",
       "      <td>1</td>\n",
       "      <td>77.180043</td>\n",
       "      <td>0.0</td>\n",
       "      <td>0.0</td>\n",
       "      <td>0.0</td>\n",
       "      <td>1.0</td>\n",
       "      <td>-1.0</td>\n",
       "      <td>-1.0</td>\n",
       "      <td>-1.0</td>\n",
       "      <td>-1.0</td>\n",
       "      <td>1.0</td>\n",
       "    </tr>\n",
       "  </tbody>\n",
       "</table>\n",
       "</div>"
      ],
      "text/plain": [
       "   Off. Team  Def. Team  Home      Score  off_0  off_1  off_2  off_3  def_0  \\\n",
       "0          0          3     1  81.819932    1.0    0.0    0.0    0.0    0.0   \n",
       "1          3          0    -1  66.175121    0.0    0.0    0.0    1.0    1.0   \n",
       "2          2          1     1  75.664517    0.0    0.0    1.0    0.0    0.0   \n",
       "3          1          2    -1  63.746799    0.0    1.0    0.0    0.0    0.0   \n",
       "4          3          4     1  77.180043    0.0    0.0    0.0    1.0   -1.0   \n",
       "\n",
       "   def_1  def_2  def_3  const  \n",
       "0    0.0    0.0    1.0    1.0  \n",
       "1    0.0    0.0    0.0    1.0  \n",
       "2    1.0    0.0    0.0    1.0  \n",
       "3    0.0    1.0    0.0    1.0  \n",
       "4   -1.0   -1.0   -1.0    1.0  "
      ]
     },
     "execution_count": 391,
     "metadata": {},
     "output_type": "execute_result"
    }
   ],
   "source": [
    "off_dummies\n",
    "glm_df = pd.concat([feature_df, helper.constrained_dummies(off_dummies), \n",
    "                    helper.constrained_dummies(def_dummies)], 1)\n",
    "glm_df['const'] = np.ones(glm_df.shape[0])\n",
    "glm_df.head()"
   ]
  },
  {
   "cell_type": "markdown",
   "metadata": {},
   "source": [
    "We can now solve the linear system to find the maximum likelihood estimates of the team ratings. We'll use the statsmodels GLM API to solve the system and get some summary statistics about the model fit."
   ]
  },
  {
   "cell_type": "code",
   "execution_count": 392,
   "metadata": {
    "collapsed": false
   },
   "outputs": [
    {
     "name": "stdout",
     "output_type": "stream",
     "text": [
      "(True value, MLE value)\n",
      "4.56082661107 4.54597606062\n",
      "-1.87573116035 -1.92341316241\n",
      "-0.276297905434 -0.42714055975\n",
      "0.202140397001 0.696947798204\n",
      "-2.61093794229 -2.89237013666\n"
     ]
    }
   ],
   "source": [
    "feature_columns = ['off_%s' % i for i in range(num_teams - 1)] + ['def_%s' % i for i in range(num_teams - 1)] + \\\n",
    "['Home'] + ['const']\n",
    "X = glm_df[feature_columns].values\n",
    "y = glm_df['Score'].values\n",
    "res = sm.GLM(y, X).fit()\n",
    "sm_params = helper.extract_coefs(res, num_teams)\n",
    "print(\"(True value, MLE value)\")\n",
    "for true_coef, mle_coef in zip(sm_params['coefs']['off'], off_skill):\n",
    "    print(true_coef, mle_coef)"
   ]
  },
  {
   "cell_type": "markdown",
   "metadata": {},
   "source": [
    "Hmmmmm, well they certainly aren't dead on are they? But we shouldn't really expect them to be since there is some randomness and we only sampled 200 games (see also: [central limit theorem](https://en.wikipedia.org/wiki/Central_limit_theorem)). Since we're inferring the coefficients from random sample, we would expect them to vary from sample to sample. In fact, it is well established in theory that the regression coefficients have a sampling distribution, which can be computed analytically, and what we see here is just a single sample from that distribution (please do read more about this [here](http://www.stat.cmu.edu/~cshalizi/mreg/15/lectures/06/lecture-06.pdf)). Statsmodels is so nice as to provide us with 95% confidence interval bounds as a part of the returned model summary. Instead of comparing directly to the sampled values, let's compare the true values to the confidence intervals."
   ]
  },
  {
   "cell_type": "code",
   "execution_count": 393,
   "metadata": {
    "collapsed": false
   },
   "outputs": [
    {
     "name": "stdout",
     "output_type": "stream",
     "text": [
      "The true coefficient 4.55 is contained within the confidence bounds [3.93, 5.19]\n",
      "The true coefficient -1.92 is contained within the confidence bounds [-2.51, -1.24]\n",
      "The true coefficient -0.43 is contained within the confidence bounds [-0.89, 0.34]\n",
      "The true coefficient 0.70 is contained within the confidence bounds [-0.43, 0.83]\n",
      "The true coefficient -2.89 is contained within the confidence bounds [-3.25, -1.97]\n"
     ]
    }
   ],
   "source": [
    "for true_coef, bounds in zip(off_skill, sm_params['ci']['off']):\n",
    "    print(\"The true coefficient %1.2f is %scontained within the confidence bounds [%1.2f, %1.2f]\" % \\\n",
    "          (true_coef, \"\" if (true_coef < bounds[1] and true_coef > bounds[0]) else \"not \", bounds[0], bounds[1]))"
   ]
  },
  {
   "cell_type": "markdown",
   "metadata": {},
   "source": [
    "The true coefficient is contained within the confidence interval bounds that we computed from our linear model fit for each offensive coefficient. We should not, in general, expect every confidence interval to contain the true value of its respective parameter. These are 95% confidence intervals, so a non-negligible 5% of the time the value will be outside of the interval.\n",
    "\n",
    "We now have a data model that we have validated with synthesized data and provides us with a sampling distribution for each of our parameters--I am quite certain we will find interesting ways to use this on real data. Still, I gotta admit, that wasn't much of a thrill. A _linear model_? C'mon, I'm a data adrenaline junkie and it's Bayesian networks that get my pulse pounding! \n",
    "\n",
    "### A Bayesian network ratings model in PyMC3\n",
    "\n",
    "Well, luckily for us Pythonistas, PyMC3 happens to be a wonderful library for implementing directed graphical models in Python. Even though we might not _need_ to implement this same model in PyMC3, it will be useful in future endeavors where we may expand our data model. It will also serve as a great way to get started with PyMC3 and probabilistic programming. Without further ado, we'll declare our model using PyMC3 below."
   ]
  },
  {
   "cell_type": "code",
   "execution_count": 395,
   "metadata": {
    "collapsed": false
   },
   "outputs": [
    {
     "name": "stdout",
     "output_type": "stream",
     "text": [
      "Applied interval-transform to std and added transformed std_interval to model.\n",
      " [-----------------100%-----------------] 3000 of 3000 complete in 69.9 sec"
     ]
    }
   ],
   "source": [
    "with pm.Model() as model:\n",
    "    # declare some extremely wide priors on the skill ratings\n",
    "    off_coefs = pm.Normal('off_coefs', 0, sd=100, shape=num_teams)\n",
    "    def_coefs = pm.Normal('def_coefs', 0, sd=100, shape=num_teams)\n",
    "    # impose a sum to zero constraint\n",
    "    off_centered = pm.Deterministic('off_centered', off_coefs - T.mean(off_coefs))\n",
    "    def_centered = pm.Deterministic('def_centered', def_coefs - T.mean(def_coefs))\n",
    "    \n",
    "    # uniform prior for the true standard deviation\n",
    "    std = pm.Uniform('std', 0.01, 20)\n",
    "    \n",
    "    # weak prior centered at zero for home advantage\n",
    "    home = pm.Normal('home', 0, sd=5)\n",
    "    \n",
    "    # weak prior centered at sample mean\n",
    "    intercept = pm.Normal('intercept', np.mean(feature_df['Score']), sd=10)\n",
    "    \n",
    "    mus = off_centered[feature_df['Off. Team'].values] + def_centered[feature_df['Def. Team'].values] + intercept + \\\n",
    "        home * feature_df['Home'].values\n",
    "    target = pm.Normal('target', mu=mus, sd=std, observed=feature_df['Score'].values)\n",
    "    \n",
    "    # find the Maximum a Posteriori point estimate and use it as a starting point\n",
    "    # with weak priors, we should expect this to coincide with the MLE estimates computed above\n",
    "    MAP_estimate = pm.find_MAP()\n",
    "    # assign variables to the No-U-turn sampler\n",
    "    step = pm.NUTS([off_coefs, def_coefs, std, intercept, off_centered, def_centered, home])\n",
    "    traces = pm.sample(3000, step=step, start=MAP_estimate, progressbar=True)"
   ]
  },
  {
   "cell_type": "markdown",
   "metadata": {},
   "source": [
    "What just happened here? First, we used PyMC's `find_MAP()` method to find the maximum a posteriori point estmate of the regression coefficients. That is, given the data we observed and our priors on the coefficients, this MAP estimate is the most likely point estimate for the regression parameters. We then used that MAP estimate as the starting point in our parameter space to begin taking samples from the posterior. The \"how\" of MCMC sampling is a _deep_ subject and I couldn't even begin to do it justice in this small paragraph. For an excellent introduction to the subject of MCMC sampling, please take a look at [Chapter 3](http://nbviewer.jupyter.org/github/CamDavidsonPilon/Probabilistic-Programming-and-Bayesian-Methods-for-Hackers/blob/master/Chapter3_MCMC/Chapter3.ipynb) of \"Bayesian Methods for Hackers\" by Cam Davidson-Pilon; to take what you learn there a bit further, Thomas Wiecki has a really [nice write-up on his blog](http://twiecki.github.io/blog/2015/11/10/mcmc-sampling/), summarizing the inner workings of the Metropolis sampling method.\n",
    "\n",
    "All we need to know here is that PyMC is generating 3000 points from the posterior - 3000 points in our parameter space where the true parameters are most likely to be. This will provide us with a histogram for each parameter, which we can interpret as an approximation to the true posterior probability distribution of each parameter.\n",
    "\n",
    "PyMC provides the raw samples, usually called the \"trace\", from the model fit, but it also provides us with a nice summary table, seen here:"
   ]
  },
  {
   "cell_type": "code",
   "execution_count": 396,
   "metadata": {
    "collapsed": false
   },
   "outputs": [
    {
     "data": {
      "text/html": [
       "<div>\n",
       "<table border=\"1\" class=\"dataframe\">\n",
       "  <thead>\n",
       "    <tr style=\"text-align: right;\">\n",
       "      <th></th>\n",
       "      <th>mean</th>\n",
       "      <th>sd</th>\n",
       "      <th>mc_error</th>\n",
       "      <th>hpd_2.5</th>\n",
       "      <th>hpd_97.5</th>\n",
       "    </tr>\n",
       "  </thead>\n",
       "  <tbody>\n",
       "    <tr>\n",
       "      <th>intercept</th>\n",
       "      <td>69.980594</td>\n",
       "      <td>0.160244</td>\n",
       "      <td>0.004439</td>\n",
       "      <td>69.668439</td>\n",
       "      <td>70.290364</td>\n",
       "    </tr>\n",
       "    <tr>\n",
       "      <th>home</th>\n",
       "      <td>3.054795</td>\n",
       "      <td>0.151380</td>\n",
       "      <td>0.004038</td>\n",
       "      <td>2.764360</td>\n",
       "      <td>3.351181</td>\n",
       "    </tr>\n",
       "    <tr>\n",
       "      <th>off_centered__0</th>\n",
       "      <td>4.546271</td>\n",
       "      <td>0.305493</td>\n",
       "      <td>0.007734</td>\n",
       "      <td>3.944897</td>\n",
       "      <td>5.141100</td>\n",
       "    </tr>\n",
       "    <tr>\n",
       "      <th>off_centered__1</th>\n",
       "      <td>-1.870667</td>\n",
       "      <td>0.321389</td>\n",
       "      <td>0.009014</td>\n",
       "      <td>-2.508676</td>\n",
       "      <td>-1.211539</td>\n",
       "    </tr>\n",
       "    <tr>\n",
       "      <th>off_centered__2</th>\n",
       "      <td>-0.280271</td>\n",
       "      <td>0.308414</td>\n",
       "      <td>0.009557</td>\n",
       "      <td>-0.807881</td>\n",
       "      <td>0.384964</td>\n",
       "    </tr>\n",
       "  </tbody>\n",
       "</table>\n",
       "</div>"
      ],
      "text/plain": [
       "                      mean        sd  mc_error    hpd_2.5   hpd_97.5\n",
       "intercept        69.980594  0.160244  0.004439  69.668439  70.290364\n",
       "home              3.054795  0.151380  0.004038   2.764360   3.351181\n",
       "off_centered__0   4.546271  0.305493  0.007734   3.944897   5.141100\n",
       "off_centered__1  -1.870667  0.321389  0.009014  -2.508676  -1.211539\n",
       "off_centered__2  -0.280271  0.308414  0.009557  -0.807881   0.384964"
      ]
     },
     "execution_count": 396,
     "metadata": {},
     "output_type": "execute_result"
    }
   ],
   "source": [
    "# summary of the last 1000 samples\n",
    "bayes_summary = pm.df_summary(traces[-1000:], ['intercept', 'home', 'off_centered', 'def_centered'])\n",
    "bayes_summary.head()"
   ]
  },
  {
   "cell_type": "markdown",
   "metadata": {},
   "source": [
    "We see that for each parameter, we get the mean and standard deviation of the posterior distribution, as well as the 95% highest posterior density region, which for unimodal distributions corresponds to the 95% credible region. Let's check that the true values are within the credible regions for the offensive parameters."
   ]
  },
  {
   "cell_type": "code",
   "execution_count": 397,
   "metadata": {
    "collapsed": false
   },
   "outputs": [
    {
     "name": "stdout",
     "output_type": "stream",
     "text": [
      "The true coefficient 4.55 is contained within the credible bounds [3.94, 5.14]\n",
      "The true coefficient -1.92 is contained within the credible bounds [-2.51, -1.21]\n",
      "The true coefficient -0.43 is contained within the credible bounds [-0.81, 0.38]\n",
      "The true coefficient 0.70 is contained within the credible bounds [-0.44, 0.82]\n",
      "The true coefficient -2.89 is contained within the credible bounds [-3.30, -1.97]\n"
     ]
    }
   ],
   "source": [
    "off_idx = ['off_centered__%s' % i for i in range(num_teams)]\n",
    "for true_coef, (lb, ub) in zip(off_skill, bayes_summary.loc[off_idx][['hpd_2.5', 'hpd_97.5']].values):\n",
    "    print(\"The true coefficient %1.2f is %scontained within the credible bounds [%1.2f, %1.2f]\" % \\\n",
    "          (true_coef, \"\" if (true_coef < ub and true_coef > lb) else \"not \", lb, ub))"
   ]
  },
  {
   "cell_type": "markdown",
   "metadata": {},
   "source": [
    "The results here and the interval bounds matchup nicely with those from the GLM model which is a good sign that our models agree. However, we still want to check the posterior distributions from PyMC and compare them with the sampling distributions from the GLM. \n",
    "\n",
    "### Validating the posterior distribution\n",
    "\n",
    "As Bayesians, we seek out the posterior distribution of our model's parameters given the data observed. Combining our prior beliefs with actual data provides with a posterior belief about where the true values of the parameters might lie. In fact, we get an entire k-dimensional probability distribution for the parameter values which tells us not only the most likely posterior values of the parameter (the MAP estimate) but also provides us with measures of uncertainty. This is better than simply having a point estimate for a variety of reasons. In a college basketball context, the Bayesian posterior distribution can tell us the associated uncertainty in a prediction. A gambling man could use this certainty to select less risky bets to place on games.\n",
    "\n",
    "But you might say, the GLM model above also provided us with a distribution on the parameters. Wrong! Err... sort of. We should be quite careful not to confuse the sampling distribution of the coefficients in a linear regression with the posterior distribution of the coefficients in a Bayesian linear regression. This is a matter of frequentist vs Bayesian viewpoints and the topic can become quite obscure rather quickly, but the difference mostly comes down to a fundamental difference in the interpretation of what probability actually means. I really must implore you to, at this point, run on over to Quora and read this nice explanation by Michael Hochster, [\"What is a confidence interval in layman's terms?\"](https://www.quora.com/What-is-a-confidence-interval-in-laymans-terms). There's rather a lot to say on this subject, but I will say none of it here and leave it as a most gruesome exercise for the interested reader. (I also rather enjoyed reading [this paper here](http://ist-socrates.berkeley.edu/~maccoun/PP279_Cohen1.pdf) on the matter)\n",
    "\n",
    "Despite all this, the Bayesian posterior and the sampling distribution of the GLM coefficients do happen to match in this case. Let's now compare the sampling distributions from the GLMs with the posterior distributions from the Bayesian model. First, let's take a look at the offensive and defensive ratings."
   ]
  },
  {
   "cell_type": "code",
   "execution_count": 398,
   "metadata": {
    "collapsed": false
   },
   "outputs": [
    {
     "data": {
      "image/png": "[encoded data removed]",
      "text/plain": [
       "<matplotlib.figure.Figure at 0x151a5e470>"
      ]
     },
     "metadata": {},
     "output_type": "display_data"
    }
   ],
   "source": [
    "fig, axs = plt.subplots(5, 2, figsize=(15, 12))\n",
    "for i in range(axs.shape[0]):\n",
    "    x, density = helper.get_gaussian(sm_params['coefs']['off'][i], sm_params['stds']['off'][i])\n",
    "    axs[i, 0].plot(x, density)\n",
    "    axs[i, 0].hist(traces['off_centered'][:, i], normed=True, bins=20)\n",
    "    axs[i, 0].set_title(\"off_%s\" % i)\n",
    "    x, density = helper.get_gaussian(sm_params['coefs']['def'][i], sm_params['stds']['def'][i])\n",
    "    axs[i, 1].plot(x, density)\n",
    "    axs[i, 1].hist(traces['def_centered'][:, i], normed=True, bins=20)\n",
    "    axs[i, 1].set_title(\"def_%s\" % i)"
   ]
  },
  {
   "cell_type": "markdown",
   "metadata": {},
   "source": [
    "Ah, warm fuzzies. The Bayesian model matches the GLM, and we cry tears of unadultered joy at the purity of our universe. Anyway, let's plug on and check the intercept and home court advantage as well."
   ]
  },
  {
   "cell_type": "code",
   "execution_count": 399,
   "metadata": {
    "collapsed": false
   },
   "outputs": [
    {
     "data": {
      "image/png": "[encoded data removed]",
      "text/plain": [
       "<matplotlib.figure.Figure at 0x151a39240>"
      ]
     },
     "metadata": {},
     "output_type": "display_data"
    }
   ],
   "source": [
    "fig, axs = plt.subplots(1, 2, figsize=(15, 6))\n",
    "x, density = helper.get_gaussian(sm_params['coefs']['intercept'], sm_params['stds']['intercept'])\n",
    "axs[0].plot(x, density)\n",
    "axs[0].hist(traces['intercept'], normed=True, bins=20)\n",
    "axs[0].set_title(\"Intercept\")\n",
    "x, density = helper.get_gaussian(sm_params['coefs']['home'], sm_params['stds']['home'])\n",
    "axs[1].plot(x, density)\n",
    "axs[1].hist(traces['home'], normed=True, bins=20)\n",
    "_ = axs[1].set_title(\"Home\")"
   ]
  },
  {
   "cell_type": "markdown",
   "metadata": {},
   "source": [
    "We nailed it! At this point, we're feeling pretty good. We came up with a nice model for rating sports teams, implemented it in two separate ways that ought to provide equivalent results, and we validated those results against each other and the true, known values that we made up. I highly suggest starting any analysis, especially with probabilistic models, by generating synthetic data and validating that the results are as expected against known parameters. One point of caution, however, is that you should _not_ expect, in general, to recover 100% of the true, known parameters inside of Bayesian credible intervals. Remember, these are 95% credible intervals such that if you have 100 parameters, you should expect that ~5 of those credible regions will not contain the true value.\n",
    "\n",
    "Well, we've done our due diligence and we've thoroughly checked our models for completeness. I think we're finally ready to move on to using some real college basketball data in our analysis. First we'll rate. Then, we'll profit. I think."
   ]
  },
  {
   "cell_type": "markdown",
   "metadata": {},
   "source": [
    "## Rating real college basketball teams in 2016"
   ]
  },
  {
   "cell_type": "markdown",
   "metadata": {},
   "source": [
    "Ideally, I'd like to provide a way to get the data I've collected for anyone to use, but I don't have an easy solution in mind at the moment. For now, I'll load data from a local PostgreSQL database which contains box score information for recent seasons of college basketball. I'll also use a helper function from a utility class that will return the data in the format that we need. Additionally, I'll load in Ken Pomeroy's publicly available ratings for the 2016 season so that we have something to compare to. In general, we should not assume that these ratings will be better than the model we've come up with, but given that Kenpom's ratings are the result of years of work, we should probably suspect they are better than this simple model we'll use here."
   ]
  },
  {
   "cell_type": "code",
   "execution_count": 401,
   "metadata": {
    "collapsed": false
   },
   "outputs": [
    {
     "name": "stdout",
     "output_type": "stream",
     "text": [
      "Got data for 5455 games and 351 teams, between 2015-11-13 and 2016-04-04\n"
     ]
    }
   ],
   "source": [
    "# get the data we need from the database\n",
    "year = 2016\n",
    "all_teams = pd.read_sql(\"SELECT ncaa, ncaaid, kenpom, conf FROM teams\", DB.conn)\n",
    "games_df, stacked_games_df, teams = util.get_data(year)\n",
    "teams['i_team'] = np.arange(teams.shape[0])\n",
    "games_df = games_df.sort('dt').reset_index().drop('index', 1)  # sort by date ascending\n",
    "stacked_games_df = stacked_games_df.sort('dt').reset_index().drop('index', 1)\n",
    "kenpom = pd.read_sql(\"SELECT team, adjo, adjd FROM kenpom_ranks WHERE year = %s\" % year, DB.conn)\n",
    "teams = teams.merge(all_teams, left_on='team_id', right_on='ncaaid')\n",
    "teams = teams.merge(kenpom, how='left', left_on='kenpom', right_on='team').drop(['team', 'kenpom', 'ncaaid'], 1)\n",
    "num_teams = teams.shape[0]\n",
    "print(\"Got data for %s games and %s teams, between %s and %s\" % (games_df.shape[0], num_teams,\n",
    "                                                   games_df['dt'].min(), games_df['dt'].max()))"
   ]
  },
  {
   "cell_type": "markdown",
   "metadata": {},
   "source": [
    "Also note that instead of using actual point scores as our rating metric, we'll use _points per possession_ (ppp) instead. You can read more on this topic [here](https://en.wikipedia.org/wiki/APBRmetrics), but basically ppp is a metric that normalizes a team's score by the number of opportunities it actually had to score, which is a more apt representation of their skill.\n",
    "\n",
    "Let's inspect the games dataframe."
   ]
  },
  {
   "cell_type": "code",
   "execution_count": 402,
   "metadata": {
    "collapsed": false
   },
   "outputs": [
    {
     "data": {
      "text/html": [
       "<div>\n",
       "<table border=\"1\" class=\"dataframe\">\n",
       "  <thead>\n",
       "    <tr style=\"text-align: right;\">\n",
       "      <th></th>\n",
       "      <th>game_id</th>\n",
       "      <th>dt</th>\n",
       "      <th>hteam</th>\n",
       "      <th>hteam_id</th>\n",
       "      <th>ateam</th>\n",
       "      <th>ateam_id</th>\n",
       "      <th>hpts</th>\n",
       "      <th>hposs</th>\n",
       "      <th>apts</th>\n",
       "      <th>aposs</th>\n",
       "      <th>i_hteam</th>\n",
       "      <th>i_ateam</th>\n",
       "      <th>hppp</th>\n",
       "      <th>appp</th>\n",
       "      <th>neutral</th>\n",
       "      <th>home_outcome</th>\n",
       "      <th>poss</th>\n",
       "      <th>season</th>\n",
       "    </tr>\n",
       "  </thead>\n",
       "  <tbody>\n",
       "    <tr>\n",
       "      <th>0</th>\n",
       "      <td>3948876</td>\n",
       "      <td>2015-11-13</td>\n",
       "      <td>Louisville</td>\n",
       "      <td>367.0</td>\n",
       "      <td>Samford</td>\n",
       "      <td>625.0</td>\n",
       "      <td>86.0</td>\n",
       "      <td>74.775</td>\n",
       "      <td>45.0</td>\n",
       "      <td>75.450</td>\n",
       "      <td>139</td>\n",
       "      <td>245</td>\n",
       "      <td>1.150117</td>\n",
       "      <td>0.596421</td>\n",
       "      <td>False</td>\n",
       "      <td>True</td>\n",
       "      <td>75.1125</td>\n",
       "      <td>2016</td>\n",
       "    </tr>\n",
       "    <tr>\n",
       "      <th>1</th>\n",
       "      <td>3951809</td>\n",
       "      <td>2015-11-13</td>\n",
       "      <td>George Mason</td>\n",
       "      <td>248.0</td>\n",
       "      <td>Colgate</td>\n",
       "      <td>153.0</td>\n",
       "      <td>53.0</td>\n",
       "      <td>67.625</td>\n",
       "      <td>66.0</td>\n",
       "      <td>65.350</td>\n",
       "      <td>93</td>\n",
       "      <td>57</td>\n",
       "      <td>0.783734</td>\n",
       "      <td>1.009946</td>\n",
       "      <td>False</td>\n",
       "      <td>False</td>\n",
       "      <td>66.4875</td>\n",
       "      <td>2016</td>\n",
       "    </tr>\n",
       "    <tr>\n",
       "      <th>2</th>\n",
       "      <td>3951861</td>\n",
       "      <td>2015-11-13</td>\n",
       "      <td>Hawaii</td>\n",
       "      <td>277.0</td>\n",
       "      <td>Montana St.</td>\n",
       "      <td>440.0</td>\n",
       "      <td>87.0</td>\n",
       "      <td>72.350</td>\n",
       "      <td>76.0</td>\n",
       "      <td>73.350</td>\n",
       "      <td>105</td>\n",
       "      <td>167</td>\n",
       "      <td>1.202488</td>\n",
       "      <td>1.036128</td>\n",
       "      <td>False</td>\n",
       "      <td>True</td>\n",
       "      <td>72.8500</td>\n",
       "      <td>2016</td>\n",
       "    </tr>\n",
       "    <tr>\n",
       "      <th>3</th>\n",
       "      <td>3949125</td>\n",
       "      <td>2015-11-13</td>\n",
       "      <td>Mississippi St.</td>\n",
       "      <td>430.0</td>\n",
       "      <td>Eastern Wash.</td>\n",
       "      <td>207.0</td>\n",
       "      <td>106.0</td>\n",
       "      <td>78.400</td>\n",
       "      <td>88.0</td>\n",
       "      <td>77.450</td>\n",
       "      <td>162</td>\n",
       "      <td>82</td>\n",
       "      <td>1.352041</td>\n",
       "      <td>1.136217</td>\n",
       "      <td>False</td>\n",
       "      <td>True</td>\n",
       "      <td>77.9250</td>\n",
       "      <td>2016</td>\n",
       "    </tr>\n",
       "    <tr>\n",
       "      <th>4</th>\n",
       "      <td>3951908</td>\n",
       "      <td>2015-11-13</td>\n",
       "      <td>Northern Ill.</td>\n",
       "      <td>503.0</td>\n",
       "      <td>Cal St. Northridge</td>\n",
       "      <td>101.0</td>\n",
       "      <td>83.0</td>\n",
       "      <td>71.150</td>\n",
       "      <td>71.0</td>\n",
       "      <td>70.725</td>\n",
       "      <td>200</td>\n",
       "      <td>38</td>\n",
       "      <td>1.166550</td>\n",
       "      <td>1.003888</td>\n",
       "      <td>False</td>\n",
       "      <td>True</td>\n",
       "      <td>70.9375</td>\n",
       "      <td>2016</td>\n",
       "    </tr>\n",
       "  </tbody>\n",
       "</table>\n",
       "</div>"
      ],
      "text/plain": [
       "   game_id          dt            hteam  hteam_id               ateam  \\\n",
       "0  3948876  2015-11-13       Louisville     367.0             Samford   \n",
       "1  3951809  2015-11-13     George Mason     248.0             Colgate   \n",
       "2  3951861  2015-11-13           Hawaii     277.0         Montana St.   \n",
       "3  3949125  2015-11-13  Mississippi St.     430.0       Eastern Wash.   \n",
       "4  3951908  2015-11-13    Northern Ill.     503.0  Cal St. Northridge   \n",
       "\n",
       "   ateam_id   hpts   hposs  apts   aposs  i_hteam  i_ateam      hppp  \\\n",
       "0     625.0   86.0  74.775  45.0  75.450      139      245  1.150117   \n",
       "1     153.0   53.0  67.625  66.0  65.350       93       57  0.783734   \n",
       "2     440.0   87.0  72.350  76.0  73.350      105      167  1.202488   \n",
       "3     207.0  106.0  78.400  88.0  77.450      162       82  1.352041   \n",
       "4     101.0   83.0  71.150  71.0  70.725      200       38  1.166550   \n",
       "\n",
       "       appp neutral home_outcome     poss  season  \n",
       "0  0.596421   False         True  75.1125    2016  \n",
       "1  1.009946   False        False  66.4875    2016  \n",
       "2  1.036128   False         True  72.8500    2016  \n",
       "3  1.136217   False         True  77.9250    2016  \n",
       "4  1.003888   False         True  70.9375    2016  "
      ]
     },
     "execution_count": 402,
     "metadata": {},
     "output_type": "execute_result"
    }
   ],
   "source": [
    "games_df.head()"
   ]
  },
  {
   "cell_type": "markdown",
   "metadata": {},
   "source": [
    "Some important columns:\n",
    "\n",
    "* `i_hteam`, `i_ateam` - a unique index for home and away teams, ranging from 0 to num_teams - 1\n",
    "* `hppp`, `appp` - home and away points per possessions for each game. Computed according to the description [here](http://kenpom.com/blog/index.php/weblog/entry/stats_explained).\n",
    "* `neutral` - boolean indicating whether or not game was played on a neutral court (this will be useful in assigning home court advantage)\n",
    "* `hteam_id`, `ateam_id` - home and away team ids (these correspond to ids used on the website from which the data is collected)\n",
    "\n",
    "Below, we perform similar data wrangling as before so that we can get the data in the form we need for both the linear model and the Bayesian model."
   ]
  },
  {
   "cell_type": "code",
   "execution_count": 403,
   "metadata": {
    "collapsed": false
   },
   "outputs": [],
   "source": [
    "def get_home(neutral, teamid, homeid):\n",
    "    if neutral:\n",
    "        return 0\n",
    "    elif teamid == homeid:\n",
    "        return 1\n",
    "    else:\n",
    "        return -1\n",
    "stacked_games_df['home'] = stacked_games_df.apply(lambda row: get_home(row.neutral, row.team_id, row.hteam_id), 1)\n",
    "feature_df = stacked_games_df[['dt', 'i_team', 'i_opp', 'home', 'ppp']]\n",
    "off_dummies = pd.get_dummies(feature_df['i_team'].astype(int), prefix='off')\n",
    "def_dummies = pd.get_dummies(feature_df['i_opp'].astype(int), prefix='def')\n",
    "glm_df = pd.concat([feature_df, helper.constrained_dummies(off_dummies), \n",
    "                    helper.constrained_dummies(def_dummies)], 1)\n",
    "glm_df['const'] = 1"
   ]
  },
  {
   "cell_type": "code",
   "execution_count": 308,
   "metadata": {
    "collapsed": false
   },
   "outputs": [
    {
     "data": {
      "text/html": [
       "<div>\n",
       "<table border=\"1\" class=\"dataframe\">\n",
       "  <thead>\n",
       "    <tr style=\"text-align: right;\">\n",
       "      <th></th>\n",
       "      <th>dt</th>\n",
       "      <th>i_team</th>\n",
       "      <th>i_opp</th>\n",
       "      <th>home</th>\n",
       "      <th>ppp</th>\n",
       "    </tr>\n",
       "  </thead>\n",
       "  <tbody>\n",
       "    <tr>\n",
       "      <th>0</th>\n",
       "      <td>2015-11-13</td>\n",
       "      <td>245</td>\n",
       "      <td>139.0</td>\n",
       "      <td>-1</td>\n",
       "      <td>0.596421</td>\n",
       "    </tr>\n",
       "    <tr>\n",
       "      <th>1</th>\n",
       "      <td>2015-11-13</td>\n",
       "      <td>230</td>\n",
       "      <td>41.0</td>\n",
       "      <td>-1</td>\n",
       "      <td>0.897170</td>\n",
       "    </tr>\n",
       "    <tr>\n",
       "      <th>2</th>\n",
       "      <td>2015-11-13</td>\n",
       "      <td>94</td>\n",
       "      <td>131.0</td>\n",
       "      <td>1</td>\n",
       "      <td>1.180556</td>\n",
       "    </tr>\n",
       "    <tr>\n",
       "      <th>3</th>\n",
       "      <td>2015-11-13</td>\n",
       "      <td>286</td>\n",
       "      <td>346.0</td>\n",
       "      <td>1</td>\n",
       "      <td>1.075044</td>\n",
       "    </tr>\n",
       "    <tr>\n",
       "      <th>4</th>\n",
       "      <td>2015-11-13</td>\n",
       "      <td>346</td>\n",
       "      <td>286.0</td>\n",
       "      <td>-1</td>\n",
       "      <td>1.035461</td>\n",
       "    </tr>\n",
       "  </tbody>\n",
       "</table>\n",
       "</div>"
      ],
      "text/plain": [
       "           dt  i_team  i_opp  home       ppp\n",
       "0  2015-11-13     245  139.0    -1  0.596421\n",
       "1  2015-11-13     230   41.0    -1  0.897170\n",
       "2  2015-11-13      94  131.0     1  1.180556\n",
       "3  2015-11-13     286  346.0     1  1.075044\n",
       "4  2015-11-13     346  286.0    -1  1.035461"
      ]
     },
     "execution_count": 308,
     "metadata": {},
     "output_type": "execute_result"
    }
   ],
   "source": [
    "feature_df.head()"
   ]
  },
  {
   "cell_type": "code",
   "execution_count": 309,
   "metadata": {
    "collapsed": false
   },
   "outputs": [
    {
     "data": {
      "text/html": [
       "<div>\n",
       "<table border=\"1\" class=\"dataframe\">\n",
       "  <thead>\n",
       "    <tr style=\"text-align: right;\">\n",
       "      <th></th>\n",
       "      <th>dt</th>\n",
       "      <th>i_team</th>\n",
       "      <th>i_opp</th>\n",
       "      <th>home</th>\n",
       "      <th>ppp</th>\n",
       "      <th>off_0</th>\n",
       "      <th>off_1</th>\n",
       "      <th>off_2</th>\n",
       "      <th>off_3</th>\n",
       "      <th>off_4</th>\n",
       "      <th>...</th>\n",
       "      <th>def_341</th>\n",
       "      <th>def_342</th>\n",
       "      <th>def_343</th>\n",
       "      <th>def_344</th>\n",
       "      <th>def_345</th>\n",
       "      <th>def_346</th>\n",
       "      <th>def_347</th>\n",
       "      <th>def_348</th>\n",
       "      <th>def_349</th>\n",
       "      <th>const</th>\n",
       "    </tr>\n",
       "  </thead>\n",
       "  <tbody>\n",
       "    <tr>\n",
       "      <th>0</th>\n",
       "      <td>2015-11-13</td>\n",
       "      <td>245</td>\n",
       "      <td>139.0</td>\n",
       "      <td>-1</td>\n",
       "      <td>0.596421</td>\n",
       "      <td>0.0</td>\n",
       "      <td>0.0</td>\n",
       "      <td>0.0</td>\n",
       "      <td>0.0</td>\n",
       "      <td>0.0</td>\n",
       "      <td>...</td>\n",
       "      <td>0.0</td>\n",
       "      <td>0.0</td>\n",
       "      <td>0.0</td>\n",
       "      <td>0.0</td>\n",
       "      <td>0.0</td>\n",
       "      <td>0.0</td>\n",
       "      <td>0.0</td>\n",
       "      <td>0.0</td>\n",
       "      <td>0.0</td>\n",
       "      <td>1</td>\n",
       "    </tr>\n",
       "    <tr>\n",
       "      <th>1</th>\n",
       "      <td>2015-11-13</td>\n",
       "      <td>230</td>\n",
       "      <td>41.0</td>\n",
       "      <td>-1</td>\n",
       "      <td>0.897170</td>\n",
       "      <td>0.0</td>\n",
       "      <td>0.0</td>\n",
       "      <td>0.0</td>\n",
       "      <td>0.0</td>\n",
       "      <td>0.0</td>\n",
       "      <td>...</td>\n",
       "      <td>0.0</td>\n",
       "      <td>0.0</td>\n",
       "      <td>0.0</td>\n",
       "      <td>0.0</td>\n",
       "      <td>0.0</td>\n",
       "      <td>0.0</td>\n",
       "      <td>0.0</td>\n",
       "      <td>0.0</td>\n",
       "      <td>0.0</td>\n",
       "      <td>1</td>\n",
       "    </tr>\n",
       "    <tr>\n",
       "      <th>2</th>\n",
       "      <td>2015-11-13</td>\n",
       "      <td>94</td>\n",
       "      <td>131.0</td>\n",
       "      <td>1</td>\n",
       "      <td>1.180556</td>\n",
       "      <td>0.0</td>\n",
       "      <td>0.0</td>\n",
       "      <td>0.0</td>\n",
       "      <td>0.0</td>\n",
       "      <td>0.0</td>\n",
       "      <td>...</td>\n",
       "      <td>0.0</td>\n",
       "      <td>0.0</td>\n",
       "      <td>0.0</td>\n",
       "      <td>0.0</td>\n",
       "      <td>0.0</td>\n",
       "      <td>0.0</td>\n",
       "      <td>0.0</td>\n",
       "      <td>0.0</td>\n",
       "      <td>0.0</td>\n",
       "      <td>1</td>\n",
       "    </tr>\n",
       "    <tr>\n",
       "      <th>3</th>\n",
       "      <td>2015-11-13</td>\n",
       "      <td>286</td>\n",
       "      <td>346.0</td>\n",
       "      <td>1</td>\n",
       "      <td>1.075044</td>\n",
       "      <td>0.0</td>\n",
       "      <td>0.0</td>\n",
       "      <td>0.0</td>\n",
       "      <td>0.0</td>\n",
       "      <td>0.0</td>\n",
       "      <td>...</td>\n",
       "      <td>0.0</td>\n",
       "      <td>0.0</td>\n",
       "      <td>0.0</td>\n",
       "      <td>0.0</td>\n",
       "      <td>0.0</td>\n",
       "      <td>1.0</td>\n",
       "      <td>0.0</td>\n",
       "      <td>0.0</td>\n",
       "      <td>0.0</td>\n",
       "      <td>1</td>\n",
       "    </tr>\n",
       "    <tr>\n",
       "      <th>4</th>\n",
       "      <td>2015-11-13</td>\n",
       "      <td>346</td>\n",
       "      <td>286.0</td>\n",
       "      <td>-1</td>\n",
       "      <td>1.035461</td>\n",
       "      <td>0.0</td>\n",
       "      <td>0.0</td>\n",
       "      <td>0.0</td>\n",
       "      <td>0.0</td>\n",
       "      <td>0.0</td>\n",
       "      <td>...</td>\n",
       "      <td>0.0</td>\n",
       "      <td>0.0</td>\n",
       "      <td>0.0</td>\n",
       "      <td>0.0</td>\n",
       "      <td>0.0</td>\n",
       "      <td>0.0</td>\n",
       "      <td>0.0</td>\n",
       "      <td>0.0</td>\n",
       "      <td>0.0</td>\n",
       "      <td>1</td>\n",
       "    </tr>\n",
       "  </tbody>\n",
       "</table>\n",
       "<p>5 rows × 706 columns</p>\n",
       "</div>"
      ],
      "text/plain": [
       "           dt  i_team  i_opp  home       ppp  off_0  off_1  off_2  off_3  \\\n",
       "0  2015-11-13     245  139.0    -1  0.596421    0.0    0.0    0.0    0.0   \n",
       "1  2015-11-13     230   41.0    -1  0.897170    0.0    0.0    0.0    0.0   \n",
       "2  2015-11-13      94  131.0     1  1.180556    0.0    0.0    0.0    0.0   \n",
       "3  2015-11-13     286  346.0     1  1.075044    0.0    0.0    0.0    0.0   \n",
       "4  2015-11-13     346  286.0    -1  1.035461    0.0    0.0    0.0    0.0   \n",
       "\n",
       "   off_4  ...    def_341  def_342  def_343  def_344  def_345  def_346  \\\n",
       "0    0.0  ...        0.0      0.0      0.0      0.0      0.0      0.0   \n",
       "1    0.0  ...        0.0      0.0      0.0      0.0      0.0      0.0   \n",
       "2    0.0  ...        0.0      0.0      0.0      0.0      0.0      0.0   \n",
       "3    0.0  ...        0.0      0.0      0.0      0.0      0.0      1.0   \n",
       "4    0.0  ...        0.0      0.0      0.0      0.0      0.0      0.0   \n",
       "\n",
       "   def_347  def_348  def_349  const  \n",
       "0      0.0      0.0      0.0      1  \n",
       "1      0.0      0.0      0.0      1  \n",
       "2      0.0      0.0      0.0      1  \n",
       "3      0.0      0.0      0.0      1  \n",
       "4      0.0      0.0      0.0      1  \n",
       "\n",
       "[5 rows x 706 columns]"
      ]
     },
     "execution_count": 309,
     "metadata": {},
     "output_type": "execute_result"
    }
   ],
   "source": [
    "glm_df.head()"
   ]
  },
  {
   "cell_type": "markdown",
   "metadata": {},
   "source": [
    "With our data prepared in nice formats for both models (GLM and Bayesian), we can now train each model on the data."
   ]
  },
  {
   "cell_type": "code",
   "execution_count": 310,
   "metadata": {
    "collapsed": false
   },
   "outputs": [],
   "source": [
    "feature_columns = ['off_%s' % i for i in range(num_teams - 1)] + ['def_%s' % i for i in range(num_teams - 1)] + \\\n",
    "['home'] + ['const']\n",
    "X = glm_df[feature_columns].values\n",
    "y = glm_df['ppp'].values\n",
    "res = sm.GLM(y, X).fit()\n",
    "sm_params = helper.extract_coefs(res, num_teams)\n",
    "\n",
    "# add MLE ratings to the team's dataframe\n",
    "teams['ortg_MLE'] = teams['i_team'].map(lambda i: sm_params['coefs']['off'][i])\n",
    "teams['drtg_MLE'] = teams['i_team'].map(lambda i: sm_params['coefs']['def'][i])"
   ]
  },
  {
   "cell_type": "code",
   "execution_count": 311,
   "metadata": {
    "collapsed": false
   },
   "outputs": [
    {
     "name": "stdout",
     "output_type": "stream",
     "text": [
      "Applied interval-transform to std and added transformed std_interval to model.\n",
      " [-----------------100%-----------------] 3000 of 3000 complete in 49.8 sec"
     ]
    }
   ],
   "source": [
    "with pm.Model() as real_model:\n",
    "    off_coefs = pm.Normal('off_coefs', 0, sd=10, shape=num_teams)\n",
    "    def_coefs = pm.Normal('def_coefs', 0, sd=10, shape=num_teams)\n",
    "    off_centered = pm.Deterministic('off_centered', off_coefs - T.mean(off_coefs))\n",
    "    def_centered = pm.Deterministic('def_centered', def_coefs - T.mean(def_coefs))\n",
    "    \n",
    "    std = pm.Uniform('std', 0.01, 5)\n",
    "    \n",
    "    home = pm.Normal('home', 0, sd=1)\n",
    "    intercept = pm.Normal('intercept', np.mean(feature_df['ppp']), sd=2)\n",
    "    \n",
    "    mus = off_centered[feature_df['i_team'].astype(int).values] + \\\n",
    "        def_centered[feature_df['i_opp'].values.astype(int)] + intercept + home * feature_df['home'].values\n",
    "    target = pm.Normal('target', mu=mus, sd=std, observed=feature_df['ppp'].values)\n",
    "    \n",
    "    MAP_estimate = pm.find_MAP()\n",
    "    step = pm.NUTS([off_coefs, def_coefs, std, intercept, off_centered, def_centered, home])\n",
    "    traces = pm.sample(3000, step=step, start=MAP_estimate, progressbar=True)"
   ]
  },
  {
   "cell_type": "code",
   "execution_count": 313,
   "metadata": {
    "collapsed": false
   },
   "outputs": [],
   "source": [
    "# add bayesian ratings to teams dataframe\n",
    "off_mean = np.mean(MAP_estimate['off_coefs'])\n",
    "def_mean = np.mean(MAP_estimate['def_coefs'])\n",
    "teams['ortg_bayes'] = teams['i_team'].map(lambda i: MAP_estimate['off_coefs'][i] - off_mean)\n",
    "teams['drtg_bayes'] = teams['i_team'].map(lambda i: MAP_estimate['def_coefs'][i] - def_mean)"
   ]
  },
  {
   "cell_type": "markdown",
   "metadata": {},
   "source": [
    "With both models trained, let's check the GLM sampling distributions versus the Bayesian posterior densities as we did with synthesized data. "
   ]
  },
  {
   "cell_type": "code",
   "execution_count": 314,
   "metadata": {
    "collapsed": false
   },
   "outputs": [
    {
     "data": {
      "image/png": "[encoded data removed]",
      "text/plain": [
       "<matplotlib.figure.Figure at 0x13f7a1908>"
      ]
     },
     "metadata": {},
     "output_type": "display_data"
    }
   ],
   "source": [
    "fig, axs = plt.subplots(1, 2, figsize=(15, 6))\n",
    "x, density = helper.get_gaussian(sm_params['coefs']['intercept'], sm_params['stds']['intercept'])\n",
    "axs[0].plot(x, density)\n",
    "axs[0].hist(traces['intercept'], normed=True, bins=20)\n",
    "axs[0].set_title(\"Intercept\")\n",
    "x, density = helper.get_gaussian(sm_params['coefs']['home'], sm_params['stds']['home'])\n",
    "axs[1].plot(x, density)\n",
    "axs[1].hist(traces['home'], normed=True, bins=20)\n",
    "_ = axs[1].set_title(\"Home\")"
   ]
  },
  {
   "cell_type": "code",
   "execution_count": 315,
   "metadata": {
    "collapsed": false
   },
   "outputs": [
    {
     "data": {
      "image/png": "[encoded data removed]",
      "text/plain": [
       "<matplotlib.figure.Figure at 0x140fbee48>"
      ]
     },
     "metadata": {},
     "output_type": "display_data"
    }
   ],
   "source": [
    "fig, axs = plt.subplots(3, 2, figsize=(15, 12))\n",
    "for i in range(axs.shape[0]):\n",
    "    x, density = helper.get_gaussian(sm_params['coefs']['off'][i], sm_params['stds']['off'][i])\n",
    "    axs[i, 0].plot(x, density)\n",
    "    axs[i, 0].hist(traces['off_centered'][:, i], normed=True, bins=20)\n",
    "    axs[i, 0].set_title(\"off_%s\" % i)\n",
    "    x, density = helper.get_gaussian(sm_params['coefs']['def'][i], sm_params['stds']['def'][i])\n",
    "    axs[i, 1].plot(x, density)\n",
    "    axs[i, 1].hist(traces['def_centered'][:, i], normed=True, bins=20)\n",
    "    axs[i, 1].set_title(\"def_%s\" % i)"
   ]
  },
  {
   "cell_type": "markdown",
   "metadata": {},
   "source": [
    "Once again, the Bayesian posteriors are in agreement with the sampling distributions from the GLM, this time with a vastly increased number of parameters. Still, just because these two models agree with one another does not mean that they are correct. Before, we had true values to compare to because we generated the data ourselves, but this time we don't know the actual ratings (that's the entire point). Instead, we can compare to Ken Pomeroy's ratings - while these are not \"true\" values, they are a pretty good time-tested set of ratings to compare with.\n",
    "\n",
    "### Kenpom rankings validation\n",
    "As a final inspection in this exercise, we will check that our ranking of each of the team's aligns with the Kenpom rankings. However, since we should not expect these to match up perfectly, it will help to compare against a baseline model. For now, we can just check that our rankings are better than simply ranking teams on their raw average output in each game. First, let's compute each team's raw average."
   ]
  },
  {
   "cell_type": "code",
   "execution_count": 404,
   "metadata": {
    "collapsed": false
   },
   "outputs": [],
   "source": [
    "teams['avg_ortg'] = stacked_games_df.groupby('i_team').mean()['ppp'].values\n",
    "teams['avg_drtg'] = stacked_games_df.groupby('i_opp').mean()['ppp'].values"
   ]
  },
  {
   "cell_type": "markdown",
   "metadata": {},
   "source": [
    "It turns out that Kenpom's ratings do not contain one of our team's, Texas Pan American, and since we are comparing _rankings_ we'll just drop it from our dataframe."
   ]
  },
  {
   "cell_type": "code",
   "execution_count": 352,
   "metadata": {
    "collapsed": false
   },
   "outputs": [
    {
     "data": {
      "text/html": [
       "<div>\n",
       "<table border=\"1\" class=\"dataframe\">\n",
       "  <thead>\n",
       "    <tr style=\"text-align: right;\">\n",
       "      <th></th>\n",
       "      <th>def_kp_GLM</th>\n",
       "      <th>def_kp_avg</th>\n",
       "      <th>def_kp_bayes</th>\n",
       "      <th>off_kp_GLM</th>\n",
       "      <th>off_kp_avg</th>\n",
       "      <th>off_kp_bayes</th>\n",
       "    </tr>\n",
       "  </thead>\n",
       "  <tbody>\n",
       "    <tr>\n",
       "      <th>count</th>\n",
       "      <td>350.000000</td>\n",
       "      <td>350.000000</td>\n",
       "      <td>350.000000</td>\n",
       "      <td>350.000000</td>\n",
       "      <td>350.000000</td>\n",
       "      <td>350.000000</td>\n",
       "    </tr>\n",
       "    <tr>\n",
       "      <th>mean</th>\n",
       "      <td>0.000000</td>\n",
       "      <td>0.000000</td>\n",
       "      <td>0.000000</td>\n",
       "      <td>0.000000</td>\n",
       "      <td>0.000000</td>\n",
       "      <td>0.000000</td>\n",
       "    </tr>\n",
       "    <tr>\n",
       "      <th>std</th>\n",
       "      <td>20.843392</td>\n",
       "      <td>47.601678</td>\n",
       "      <td>20.843392</td>\n",
       "      <td>18.865836</td>\n",
       "      <td>35.988616</td>\n",
       "      <td>18.865836</td>\n",
       "    </tr>\n",
       "    <tr>\n",
       "      <th>min</th>\n",
       "      <td>-53.000000</td>\n",
       "      <td>-119.000000</td>\n",
       "      <td>-53.000000</td>\n",
       "      <td>-48.000000</td>\n",
       "      <td>-98.000000</td>\n",
       "      <td>-48.000000</td>\n",
       "    </tr>\n",
       "    <tr>\n",
       "      <th>25%</th>\n",
       "      <td>-13.000000</td>\n",
       "      <td>-30.000000</td>\n",
       "      <td>-13.000000</td>\n",
       "      <td>-11.750000</td>\n",
       "      <td>-20.000000</td>\n",
       "      <td>-11.750000</td>\n",
       "    </tr>\n",
       "    <tr>\n",
       "      <th>50%</th>\n",
       "      <td>0.000000</td>\n",
       "      <td>-1.500000</td>\n",
       "      <td>0.000000</td>\n",
       "      <td>0.000000</td>\n",
       "      <td>1.500000</td>\n",
       "      <td>0.000000</td>\n",
       "    </tr>\n",
       "    <tr>\n",
       "      <th>75%</th>\n",
       "      <td>11.000000</td>\n",
       "      <td>28.750000</td>\n",
       "      <td>11.000000</td>\n",
       "      <td>10.000000</td>\n",
       "      <td>23.000000</td>\n",
       "      <td>10.000000</td>\n",
       "    </tr>\n",
       "    <tr>\n",
       "      <th>max</th>\n",
       "      <td>79.000000</td>\n",
       "      <td>160.000000</td>\n",
       "      <td>79.000000</td>\n",
       "      <td>85.000000</td>\n",
       "      <td>97.000000</td>\n",
       "      <td>85.000000</td>\n",
       "    </tr>\n",
       "  </tbody>\n",
       "</table>\n",
       "</div>"
      ],
      "text/plain": [
       "       def_kp_GLM  def_kp_avg  def_kp_bayes  off_kp_GLM  off_kp_avg  \\\n",
       "count  350.000000  350.000000    350.000000  350.000000  350.000000   \n",
       "mean     0.000000    0.000000      0.000000    0.000000    0.000000   \n",
       "std     20.843392   47.601678     20.843392   18.865836   35.988616   \n",
       "min    -53.000000 -119.000000    -53.000000  -48.000000  -98.000000   \n",
       "25%    -13.000000  -30.000000    -13.000000  -11.750000  -20.000000   \n",
       "50%      0.000000   -1.500000      0.000000    0.000000    1.500000   \n",
       "75%     11.000000   28.750000     11.000000   10.000000   23.000000   \n",
       "max     79.000000  160.000000     79.000000   85.000000   97.000000   \n",
       "\n",
       "       off_kp_bayes  \n",
       "count    350.000000  \n",
       "mean       0.000000  \n",
       "std       18.865836  \n",
       "min      -48.000000  \n",
       "25%      -11.750000  \n",
       "50%        0.000000  \n",
       "75%       10.000000  \n",
       "max       85.000000  "
      ]
     },
     "execution_count": 352,
     "metadata": {},
     "output_type": "execute_result"
    }
   ],
   "source": [
    "ranks = teams.dropna().rank(method='first', numeric_only=True, ascending=False)\n",
    "cols = {'off_kp_avg': ranks['adjo'] - ranks['avg_ortg'],\n",
    "        'def_kp_avg': ranks['adjd'] - ranks['avg_drtg'],\n",
    "        'off_kp_GLM': ranks['adjo'] - ranks['ortg_MLE'],\n",
    "        'def_kp_GLM': ranks['adjd'] - ranks['drtg_MLE'],\n",
    "        'off_kp_bayes': ranks['adjo'] - ranks['ortg_bayes'],\n",
    "        'def_kp_bayes': ranks['adjd'] - ranks['drtg_bayes']}\n",
    "rank_dists = pd.DataFrame(cols)\n",
    "rank_dists.describe()"
   ]
  },
  {
   "cell_type": "code",
   "execution_count": 414,
   "metadata": {
    "collapsed": false
   },
   "outputs": [
    {
     "data": {
      "text/plain": [
       "<matplotlib.text.Text at 0x1350760b8>"
      ]
     },
     "execution_count": 414,
     "metadata": {},
     "output_type": "execute_result"
    },
    {
     "data": {
      "image/png": "[encoded data removed]",
      "text/plain": [
       "<matplotlib.figure.Figure at 0x150fe96d8>"
      ]
     },
     "metadata": {},
     "output_type": "display_data"
    }
   ],
   "source": [
    "fig, axs = plt.subplots(1, 2, figsize=(15, 6))\n",
    "axs[0].scatter(ranks['adjo'], ranks['ortg_MLE'])\n",
    "axs[0].set_xlabel(\"Kenpom Ranking\")\n",
    "axs[0].set_ylabel(\"GLM Ranking\")\n",
    "axs[1].scatter(ranks['adjo'], ranks['avg_ortg'])\n",
    "axs[1].set_xlabel(\"Kenpom Ranking\")\n",
    "axs[1].set_ylabel(\"Season Average Ranking\")"
   ]
  },
  {
   "cell_type": "markdown",
   "metadata": {},
   "source": [
    "First, take a look at the summary statistics of the ranking distances dataframe. The 25% and 75% quantiles are in the 20-30 ranking spots range for the average ratings to kenpom ratings, while our GLM and Bayesian ratings have improved these to the 10-15 range. Additionally, the standard deviations of the distances are greatly reduced. Finally, we can inspect the scatter plots above to see that our ratings are much more tightly coupled to the Kenpom ratings than are the raw averages. We could go further still, but this should be enough to convince ourselves that our ratings are significantly better than our average baseiline ratings.\n",
    "\n",
    "On a related note, there are many reasons that our ratings will not exactly match Ken Pomeroy's. To be more specific, there are many reasons why his ratings are better than this first version. For one, he applies a temporal weighting on games that essentially phases out really old games that aren't likely to reflect a team's current skill as well as recent games. He also reduces the weight of enormous blowouts such that a team that beats an inferior opponent by 60 does not get (much) more credit than a team that beats an inferior opponent by 20. There are other good reasons as well (hey, the guy's been doing this a while), but with some time and experimentation, our rating system here may get better. This brings me to my next point: what does \"better\" mean?\n",
    "\n",
    "Most likely, we are rating sports teams because we'd like to be able to intelligently predict the outcome of a matchup before it happens. We might care about predicting the actual score, or just predicting the winner, but either way we will evaluate our ratings on how well they predict future data. In this exercise, we rated each of the team's in Division 1 college basketball after all the games had been played... this doesn't sound very useful! In a follow up post, I'll take a look at generating rankings throughout the season and applying them for prediction of past \"future\" games."
   ]
  },
  {
   "cell_type": "markdown",
   "metadata": {},
   "source": [
    "## Conclusions\n",
    "\n",
    "Saying that you used probabilistic programming to create a rating system for college basketball teams using a Bayesian network definitely _sounds_ cool. But as we saw, a linear regression gave us all we needed to create a solid, effective rating system. So why did we bother with the Bayesian network? For one, it was a nice way to learn PyMC and probabilistic programming. Second, the Bayesian network will give us nice flexibility to extend our model in the future, and to also address some problems we haven't discussed. How should we rate teams in the beginning of the season when there is really very little data to work with? The Bayesian model will allow us to specify priors on the team ratings, which we could base off of a variety of things, the simplest being the previous year's ratings. Bayes nets also allow us to reason about the uncertainty in our ratings more clearly. We should be clear not to confuse the sampling distributions of the coefficients provided by the GLM with the posterior distribution on the parameters we get from the Bayesian model. Among other things, the Bayes net gives us the ability to say things like \"team A's rating is between 0.9 and 1.1 with 95% probability,\" something we cannot say using frequentist methods."
   ]
  },
  {
   "cell_type": "code",
   "execution_count": null,
   "metadata": {
    "collapsed": true
   },
   "outputs": [],
   "source": []
  }
 ],
 "metadata": {
  "kernelspec": {
   "display_name": "Python 3",
   "language": "python",
   "name": "python3"
  },
  "language_info": {
   "codemirror_mode": {
    "name": "ipython",
    "version": 3
   },
   "file_extension": ".py",
   "mimetype": "text/x-python",
   "name": "python",
   "nbconvert_exporter": "python",
   "pygments_lexer": "ipython3",
   "version": "3.4.3"
  }
 },
 "nbformat": 4,
 "nbformat_minor": 0
}
