{
 "cells": [
  {
   "cell_type": "code",
   "execution_count": 46,
   "metadata": {
    "collapsed": true
   },
   "outputs": [],
   "source": [
    "import pymc3 as pm\n",
    "import numpy as np\n",
    "import pandas as pd\n",
    "import datetime\n",
    "\n",
    "from scipy import optimize\n",
    "import theano as thno\n",
    "import theano.tensor as T\n",
    "\n",
    "# data retrieval helper module\n",
    "from general.DB import DB\n",
    "import util\n",
    "\n",
    "from sklearn.linear_model import LinearRegression\n",
    "\n",
    "# plotting libraries\n",
    "import matplotlib.pyplot as plt\n",
    "import matplotlib.mlab as mlab\n",
    "import seaborn as sns\n",
    "%matplotlib inline"
   ]
  },
  {
   "cell_type": "code",
   "execution_count": 395,
   "metadata": {
    "collapsed": false
   },
   "outputs": [
    {
     "name": "stdout",
     "output_type": "stream",
     "text": [
      "Got data for 5455 games and 351 teams, between 11-13-2015 and 04-04-2016\n"
     ]
    }
   ],
   "source": [
    "# get the data we need from the database\n",
    "games_df, stacked, teams = util.get_data(2016)\n",
    "games_df = games_df[:]\n",
    "games_df = games_df.sort('dt')  # sort by date ascending\n",
    "# last_games = games_df.iloc[-1:]\n",
    "# games_df = games_df.iloc[:-1]\n",
    "kenpom = pd.read_sql(\"SELECT team, adjt, adjo, adjd FROM kenpom_ranks WHERE year = 2016\", DB.conn)\n",
    "all_teams = pd.read_sql(\"SELECT ncaa, ncaaid, kenpom FROM teams\", DB.conn)\n",
    "teams = teams.merge(all_teams, left_on='team_id', right_on='ncaaid')\n",
    "teams = teams.merge(kenpom, how='left', left_on='kenpom', right_on='team').drop(['team', 'kenpom'], 1)\n",
    "num_teams = teams.shape[0]\n",
    "num_games = games_df.shape[0]\n",
    "print(\"Got data for %s games and %s teams, between %s and %s\" % (num_games, num_teams,\n",
    "                                                   datetime.datetime.strftime(games_df['dt'].min(), \"%m-%d-%Y\"),\n",
    "                                                  datetime.datetime.strftime(games_df['dt'].max(), \"%m-%d-%Y\")))"
   ]
  },
  {
   "cell_type": "code",
   "execution_count": 396,
   "metadata": {
    "collapsed": true
   },
   "outputs": [],
   "source": [
    "def get_dummies(indices, num_teams):\n",
    "    num_games = indices.shape[0]\n",
    "    idx = (indices + num_teams * np.arange(num_games)[:, np.newaxis]).ravel()\n",
    "    print(idx)\n",
    "    X = np.zeros(num_games * num_teams)\n",
    "    X[idx] = 1\n",
    "    return X.reshape(num_games, num_teams)"
   ]
  },
  {
   "cell_type": "code",
   "execution_count": 397,
   "metadata": {
    "collapsed": false
   },
   "outputs": [],
   "source": [
    "# define some variables to use when declaring the model\n",
    "observed_possessions = games_df['poss'].values\n",
    "# game_indices_predict = last_games[['i_hteam', 'i_ateam']].values\n",
    "game_indices = games_df[['i_hteam', 'i_ateam']].values\n",
    "observed_mean = np.mean(observed_possessions)\n",
    "# pace_initial = get_initial_values(observed_possessions, game_indices, num_teams)\n",
    "home_team_idx = game_indices[:, 0]\n",
    "away_team_idx = game_indices[:, 1]"
   ]
  },
  {
   "cell_type": "code",
   "execution_count": 398,
   "metadata": {
    "collapsed": false
   },
   "outputs": [
    {
     "data": {
      "text/plain": [
       "0"
      ]
     },
     "execution_count": 398,
     "metadata": {},
     "output_type": "execute_result"
    }
   ],
   "source": [
    "def mov_weight(mov, limit=20):\n",
    "    if mov <= limit:\n",
    "        return 1\n",
    "    else:\n",
    "        return np.exp(-np.abs(mov - limit) / 3)\n",
    "temporal_weights = np.arange(num_games)\n",
    "mov_weights = (games_df['hpts'] - games_df['apts']).map(lambda mov: mov_weight(mov)).values\n",
    "np.sum(np.isnan(weights * mov_weights))"
   ]
  },
  {
   "cell_type": "code",
   "execution_count": 399,
   "metadata": {
    "collapsed": false
   },
   "outputs": [],
   "source": [
    "home_off_mat = pd.get_dummies(home_team_idx, prefix='o')\n",
    "away_def_mat = pd.get_dummies(away_team_idx, prefix='d')\n",
    "df1 = pd.concat([home_off_mat, away_def_mat], axis=1)\n",
    "df1['ppp'] = games_df['hppp'].values * 100\n",
    "df1['ppp_log'] = np.log(df1['ppp'].values)\n",
    "df1['home'] = (~games_df['neutral']).astype(int).values\n",
    "df1['weights'] = weights * mov_weights\n",
    "\n",
    "home_def_mat = pd.get_dummies(home_team_idx, prefix='d')\n",
    "away_off_mat = pd.get_dummies(away_team_idx, prefix='o')\n",
    "df2 = pd.concat([away_off_mat, home_def_mat], axis=1)\n",
    "df2['ppp'] = games_df['appp'].values * 100\n",
    "df2['ppp_log'] = np.log(df2['ppp'].values)\n",
    "df2['home'] = games_df['neutral'].astype(int).values - 1.0\n",
    "df2['weights'] = weights\n",
    "\n",
    "df = pd.concat([df1, df2], axis=0)"
   ]
  },
  {
   "cell_type": "code",
   "execution_count": 400,
   "metadata": {
    "collapsed": false
   },
   "outputs": [],
   "source": [
    "feature_cols = [\"o_%s\" % i for i in range(1, num_teams)] + [\"d_%s\" % i for i in range(1, num_teams)] + [\"home\"]\n",
    "# feature_cols = df.columns - [\"ppp\", \"o_0\", \"d_0\"]\n",
    "X = df[feature_cols].values\n",
    "y = df['ppp'].values\n",
    "ylog = df['ppp_log'].values"
   ]
  },
  {
   "cell_type": "code",
   "execution_count": 401,
   "metadata": {
    "collapsed": false
   },
   "outputs": [],
   "source": [
    "lr = LinearRegression()"
   ]
  },
  {
   "cell_type": "code",
   "execution_count": 402,
   "metadata": {
    "collapsed": false
   },
   "outputs": [],
   "source": [
    "def unpack_coefs(lr, num_teams, islog=False, shift=True):\n",
    "    o = np.zeros(num_teams)\n",
    "    o[1:] = lr.coef_[:num_teams-1]\n",
    "    d = np.zeros(num_teams)\n",
    "    d[1:] = lr.coef_[num_teams - 1:2*num_teams-2]\n",
    "    home = lr.coef_[-1]\n",
    "    intercept = lr.intercept_\n",
    "    \n",
    "    if shift:\n",
    "        intercept = intercept + np.mean(o) + np.mean(d)\n",
    "        o, d, home, intercept = o - np.mean(o) + intercept, d - np.mean(d) + intercept, home, intercept\n",
    "    else:\n",
    "        o, d, home, intercept = o + intercept, d + intercept, home, intercept\n",
    "    \n",
    "    if islog:\n",
    "        return np.exp(o), np.exp(d), np.exp(home), np.exp(-intercept)\n",
    "        \n",
    "    else:\n",
    "        return o, d, home, intercept\n",
    "    \n",
    "    "
   ]
  },
  {
   "cell_type": "code",
   "execution_count": 403,
   "metadata": {
    "collapsed": false
   },
   "outputs": [],
   "source": [
    "teams['ortg_log'], teams['drtg_log'], _, _ = unpack_coefs(lr.fit(X, ylog), num_teams, islog=True)\n",
    "teams['ortg_log_weighted'], teams['drtg_log_weighted'], _, _ = \\\n",
    "    unpack_coefs(lr.fit(X, ylog, sample_weight=df['weights'].values), num_teams, islog=True)\n",
    "teams['ortg_weighted'], teams['drtg_weighted'], _, _ = \\\n",
    "    unpack_coefs(lr.fit(X, y, sample_weight=df['weights'].values), num_teams)\n",
    "teams['ortg'], teams['drtg'], _, _ = unpack_coefs(lr.fit(X, y), num_teams)"
   ]
  },
  {
   "cell_type": "code",
   "execution_count": 407,
   "metadata": {
    "collapsed": false,
    "scrolled": true
   },
   "outputs": [
    {
     "data": {
      "text/html": [
       "<div>\n",
       "<table border=\"1\" class=\"dataframe\">\n",
       "  <thead>\n",
       "    <tr style=\"text-align: right;\">\n",
       "      <th></th>\n",
       "      <th>team_id</th>\n",
       "      <th>i_team</th>\n",
       "      <th>ncaa</th>\n",
       "      <th>ncaaid</th>\n",
       "      <th>adjt</th>\n",
       "      <th>adjo</th>\n",
       "      <th>adjd</th>\n",
       "      <th>ortg_log</th>\n",
       "      <th>drtg_log</th>\n",
       "      <th>ortg_log_weighted</th>\n",
       "      <th>drtg_log_weighted</th>\n",
       "      <th>ortg_weighted</th>\n",
       "      <th>drtg_weighted</th>\n",
       "      <th>ortg</th>\n",
       "      <th>drtg</th>\n",
       "    </tr>\n",
       "  </thead>\n",
       "  <tbody>\n",
       "    <tr>\n",
       "      <th>139</th>\n",
       "      <td>367.0</td>\n",
       "      <td>139</td>\n",
       "      <td>Louisville</td>\n",
       "      <td>367.0</td>\n",
       "      <td>66.9</td>\n",
       "      <td>109.9</td>\n",
       "      <td>90.2</td>\n",
       "      <td>114.114628</td>\n",
       "      <td>85.742528</td>\n",
       "      <td>110.561572</td>\n",
       "      <td>86.676488</td>\n",
       "      <td>110.886263</td>\n",
       "      <td>86.979072</td>\n",
       "      <td>115.037285</td>\n",
       "      <td>86.275478</td>\n",
       "    </tr>\n",
       "    <tr>\n",
       "      <th>319</th>\n",
       "      <td>782.0</td>\n",
       "      <td>319</td>\n",
       "      <td>Wichita St.</td>\n",
       "      <td>782.0</td>\n",
       "      <td>66.9</td>\n",
       "      <td>107.7</td>\n",
       "      <td>88.0</td>\n",
       "      <td>112.345763</td>\n",
       "      <td>86.907120</td>\n",
       "      <td>109.849278</td>\n",
       "      <td>83.453557</td>\n",
       "      <td>110.109336</td>\n",
       "      <td>83.729498</td>\n",
       "      <td>112.866740</td>\n",
       "      <td>87.556983</td>\n",
       "    </tr>\n",
       "    <tr>\n",
       "      <th>314</th>\n",
       "      <td>768.0</td>\n",
       "      <td>314</td>\n",
       "      <td>West Virginia</td>\n",
       "      <td>768.0</td>\n",
       "      <td>70.5</td>\n",
       "      <td>112.7</td>\n",
       "      <td>92.5</td>\n",
       "      <td>114.862934</td>\n",
       "      <td>87.071072</td>\n",
       "      <td>113.966629</td>\n",
       "      <td>89.620492</td>\n",
       "      <td>113.922579</td>\n",
       "      <td>90.641750</td>\n",
       "      <td>115.119351</td>\n",
       "      <td>88.134706</td>\n",
       "    </tr>\n",
       "    <tr>\n",
       "      <th>304</th>\n",
       "      <td>739.0</td>\n",
       "      <td>304</td>\n",
       "      <td>Villanova</td>\n",
       "      <td>739.0</td>\n",
       "      <td>66.5</td>\n",
       "      <td>122.5</td>\n",
       "      <td>92.2</td>\n",
       "      <td>121.002229</td>\n",
       "      <td>87.599513</td>\n",
       "      <td>125.951015</td>\n",
       "      <td>88.543722</td>\n",
       "      <td>125.355735</td>\n",
       "      <td>88.940700</td>\n",
       "      <td>121.209503</td>\n",
       "      <td>88.269082</td>\n",
       "    </tr>\n",
       "    <tr>\n",
       "      <th>246</th>\n",
       "      <td>626.0</td>\n",
       "      <td>246</td>\n",
       "      <td>San Diego St.</td>\n",
       "      <td>626.0</td>\n",
       "      <td>65.7</td>\n",
       "      <td>102.6</td>\n",
       "      <td>90.7</td>\n",
       "      <td>102.902480</td>\n",
       "      <td>88.684744</td>\n",
       "      <td>103.603340</td>\n",
       "      <td>88.556154</td>\n",
       "      <td>104.668097</td>\n",
       "      <td>89.054925</td>\n",
       "      <td>104.176508</td>\n",
       "      <td>89.284131</td>\n",
       "    </tr>\n",
       "    <tr>\n",
       "      <th>127</th>\n",
       "      <td>328.0</td>\n",
       "      <td>127</td>\n",
       "      <td>Kansas</td>\n",
       "      <td>328.0</td>\n",
       "      <td>69.9</td>\n",
       "      <td>117.7</td>\n",
       "      <td>91.5</td>\n",
       "      <td>121.565907</td>\n",
       "      <td>88.980196</td>\n",
       "      <td>119.875820</td>\n",
       "      <td>88.520721</td>\n",
       "      <td>119.029666</td>\n",
       "      <td>88.555797</td>\n",
       "      <td>120.934468</td>\n",
       "      <td>89.113236</td>\n",
       "    </tr>\n",
       "    <tr>\n",
       "      <th>226</th>\n",
       "      <td>559.0</td>\n",
       "      <td>226</td>\n",
       "      <td>Purdue</td>\n",
       "      <td>559.0</td>\n",
       "      <td>68.5</td>\n",
       "      <td>114.6</td>\n",
       "      <td>95.1</td>\n",
       "      <td>117.106746</td>\n",
       "      <td>89.081791</td>\n",
       "      <td>119.525358</td>\n",
       "      <td>92.833556</td>\n",
       "      <td>119.503066</td>\n",
       "      <td>93.674179</td>\n",
       "      <td>117.692332</td>\n",
       "      <td>89.938064</td>\n",
       "    </tr>\n",
       "    <tr>\n",
       "      <th>308</th>\n",
       "      <td>746.0</td>\n",
       "      <td>308</td>\n",
       "      <td>Virginia</td>\n",
       "      <td>746.0</td>\n",
       "      <td>61.9</td>\n",
       "      <td>118.5</td>\n",
       "      <td>91.7</td>\n",
       "      <td>121.793416</td>\n",
       "      <td>89.258338</td>\n",
       "      <td>121.358999</td>\n",
       "      <td>87.407051</td>\n",
       "      <td>120.526382</td>\n",
       "      <td>87.411937</td>\n",
       "      <td>121.331223</td>\n",
       "      <td>89.437773</td>\n",
       "    </tr>\n",
       "    <tr>\n",
       "      <th>301</th>\n",
       "      <td>735.0</td>\n",
       "      <td>301</td>\n",
       "      <td>Valparaiso</td>\n",
       "      <td>735.0</td>\n",
       "      <td>67.4</td>\n",
       "      <td>105.6</td>\n",
       "      <td>92.8</td>\n",
       "      <td>106.442622</td>\n",
       "      <td>89.318306</td>\n",
       "      <td>107.761327</td>\n",
       "      <td>91.004228</td>\n",
       "      <td>108.339215</td>\n",
       "      <td>91.824818</td>\n",
       "      <td>107.179954</td>\n",
       "      <td>90.184957</td>\n",
       "    </tr>\n",
       "    <tr>\n",
       "      <th>283</th>\n",
       "      <td>697.0</td>\n",
       "      <td>283</td>\n",
       "      <td>Texas A&amp;M</td>\n",
       "      <td>697.0</td>\n",
       "      <td>68.1</td>\n",
       "      <td>111.6</td>\n",
       "      <td>93.9</td>\n",
       "      <td>113.944482</td>\n",
       "      <td>89.398575</td>\n",
       "      <td>113.061200</td>\n",
       "      <td>89.778865</td>\n",
       "      <td>112.915786</td>\n",
       "      <td>90.762649</td>\n",
       "      <td>114.078203</td>\n",
       "      <td>90.193804</td>\n",
       "    </tr>\n",
       "  </tbody>\n",
       "</table>\n",
       "</div>"
      ],
      "text/plain": [
       "     team_id  i_team           ncaa  ncaaid  adjt   adjo  adjd    ortg_log  \\\n",
       "139    367.0     139     Louisville   367.0  66.9  109.9  90.2  114.114628   \n",
       "319    782.0     319    Wichita St.   782.0  66.9  107.7  88.0  112.345763   \n",
       "314    768.0     314  West Virginia   768.0  70.5  112.7  92.5  114.862934   \n",
       "304    739.0     304      Villanova   739.0  66.5  122.5  92.2  121.002229   \n",
       "246    626.0     246  San Diego St.   626.0  65.7  102.6  90.7  102.902480   \n",
       "127    328.0     127         Kansas   328.0  69.9  117.7  91.5  121.565907   \n",
       "226    559.0     226         Purdue   559.0  68.5  114.6  95.1  117.106746   \n",
       "308    746.0     308       Virginia   746.0  61.9  118.5  91.7  121.793416   \n",
       "301    735.0     301     Valparaiso   735.0  67.4  105.6  92.8  106.442622   \n",
       "283    697.0     283      Texas A&M   697.0  68.1  111.6  93.9  113.944482   \n",
       "\n",
       "      drtg_log  ortg_log_weighted  drtg_log_weighted  ortg_weighted  \\\n",
       "139  85.742528         110.561572          86.676488     110.886263   \n",
       "319  86.907120         109.849278          83.453557     110.109336   \n",
       "314  87.071072         113.966629          89.620492     113.922579   \n",
       "304  87.599513         125.951015          88.543722     125.355735   \n",
       "246  88.684744         103.603340          88.556154     104.668097   \n",
       "127  88.980196         119.875820          88.520721     119.029666   \n",
       "226  89.081791         119.525358          92.833556     119.503066   \n",
       "308  89.258338         121.358999          87.407051     120.526382   \n",
       "301  89.318306         107.761327          91.004228     108.339215   \n",
       "283  89.398575         113.061200          89.778865     112.915786   \n",
       "\n",
       "     drtg_weighted        ortg       drtg  \n",
       "139      86.979072  115.037285  86.275478  \n",
       "319      83.729498  112.866740  87.556983  \n",
       "314      90.641750  115.119351  88.134706  \n",
       "304      88.940700  121.209503  88.269082  \n",
       "246      89.054925  104.176508  89.284131  \n",
       "127      88.555797  120.934468  89.113236  \n",
       "226      93.674179  117.692332  89.938064  \n",
       "308      87.411937  121.331223  89.437773  \n",
       "301      91.824818  107.179954  90.184957  \n",
       "283      90.762649  114.078203  90.193804  "
      ]
     },
     "execution_count": 407,
     "metadata": {},
     "output_type": "execute_result"
    }
   ],
   "source": [
    "teams.sort('drtg_log', ascending=True).head(10)"
   ]
  },
  {
   "cell_type": "code",
   "execution_count": 405,
   "metadata": {
    "collapsed": false
   },
   "outputs": [
    {
     "data": {
      "image/png": "[encoded data removed]",
      "text/plain": [
       "<matplotlib.figure.Figure at 0x1190c7a90>"
      ]
     },
     "metadata": {},
     "output_type": "display_data"
    }
   ],
   "source": [
    "teams = teams.fillna(100)\n",
    "fig, axs = plt.subplots(5, 2, figsize=(15, 12))\n",
    "axs[0, 0].hist(teams['adjd'], bins=40, alpha=0.5)\n",
    "axs[1, 0].hist(teams['drtg_log_weighted'], bins=40, alpha=0.5)\n",
    "axs[2, 0].hist(teams['drtg_log'], bins=40, alpha=0.5)\n",
    "axs[3, 0].hist(teams['drtg_weighted'], bins=40, alpha=0.5)\n",
    "axs[4, 0].hist(teams['drtg'], bins=40, alpha=0.5)\n",
    "axs[0, 1].hist(teams['adjo'], bins=40, alpha=0.5)\n",
    "axs[1, 1].hist(teams['ortg_log_weighted'], bins=40, alpha=0.5)\n",
    "axs[2, 1].hist(teams['ortg_log'], bins=40, alpha=0.5)\n",
    "axs[3, 1].hist(teams['ortg_weighted'], bins=40, alpha=0.5)\n",
    "_ = axs[4, 1].hist(teams['ortg'], bins=40, alpha=0.5)\n",
    "for ax in axs.ravel():\n",
    "    ax.set_xlim([80, 120])"
   ]
  },
  {
   "cell_type": "code",
   "execution_count": null,
   "metadata": {
    "collapsed": true
   },
   "outputs": [],
   "source": []
  }
 ],
 "metadata": {
  "kernelspec": {
   "display_name": "Python 3",
   "language": "python",
   "name": "python3"
  },
  "language_info": {
   "codemirror_mode": {
    "name": "ipython",
    "version": 3
   },
   "file_extension": ".py",
   "mimetype": "text/x-python",
   "name": "python",
   "nbconvert_exporter": "python",
   "pygments_lexer": "ipython3",
   "version": "3.4.3"
  }
 },
 "nbformat": 4,
 "nbformat_minor": 0
}
